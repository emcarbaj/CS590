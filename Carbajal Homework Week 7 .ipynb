{
 "cells": [
  {
   "cell_type": "code",
   "execution_count": 2,
   "metadata": {},
   "outputs": [],
   "source": [
    "# I picked a random integer from 1 to 100 and the I ssigned it to a variable\n",
    "num = sample(1:100, 1)"
   ]
  },
  {
   "cell_type": "code",
   "execution_count": 3,
   "metadata": {},
   "outputs": [
    {
     "data": {
      "text/html": [
       "35"
      ],
      "text/latex": [
       "35"
      ],
      "text/markdown": [
       "35"
      ],
      "text/plain": [
       "[1] 35"
      ]
     },
     "metadata": {},
     "output_type": "display_data"
    }
   ],
   "source": [
    "num"
   ]
  },
  {
   "cell_type": "code",
   "execution_count": 4,
   "metadata": {},
   "outputs": [
    {
     "name": "stdout",
     "output_type": "stream",
     "text": [
      "[1] \"WELCOME TO GUESS ME!\"\n",
      "[1] \"I'm thinking of a number between 1 and 100\"\n",
      "[1] \"If your guess is more than 10 away from my number, I'll tell you you're COLD\"\n",
      "[1] \"If your guess is within 10 of my number, I'll tell you you're WARM\"\n",
      "[1] \"If your guess is farther than your most recent guess, I'll say you're getting COLDER\"\n",
      "[1] \"If your guess is closer than your most recent guess, I'll say you're getting WARMER\"\n",
      "[1] \"LET'S PLAY!\"\n"
     ]
    }
   ],
   "source": [
    "#Just rule to the game\n",
    "print(\"WELCOME TO GUESS ME!\")\n",
    "print(\"I'm thinking of a number between 1 and 100\")\n",
    "print(\"If your guess is more than 10 away from my number, I'll tell you you're COLD\")\n",
    "print(\"If your guess is within 10 of my number, I'll tell you you're WARM\")\n",
    "print(\"If your guess is farther than your most recent guess, I'll say you're getting COLDER\")\n",
    "print(\"If your guess is closer than your most recent guess, I'll say you're getting WARMER\")\n",
    "print(\"LET'S PLAY!\")"
   ]
  },
  {
   "cell_type": "code",
   "execution_count": 5,
   "metadata": {},
   "outputs": [
    {
     "data": {
      "text/html": [
       "0"
      ],
      "text/latex": [
       "0"
      ],
      "text/markdown": [
       "0"
      ],
      "text/plain": [
       "[1] 0"
      ]
     },
     "metadata": {},
     "output_type": "display_data"
    }
   ],
   "source": [
    "# Creating a list to store guesses Zero is a good placeholder value. \n",
    "#It's useful because it evaluates to \"FALSE\" based on the conditions of the game\n",
    "guesses <- c(0)\n",
    "guesses"
   ]
  },
  {
   "cell_type": "code",
   "execution_count": 6,
   "metadata": {},
   "outputs": [
    {
     "name": "stdout",
     "output_type": "stream",
     "text": [
      "Run to get a user prompt 3\n"
     ]
    }
   ],
   "source": [
    "# Use readline() to get a user input prompt. The system will print the user input after pressing enter\n",
    "#This can be stored as a variable and used in the while loop\n",
    "readline(prompt=\"Run to get a user prompt \")"
   ]
  },
  {
   "cell_type": "code",
   "execution_count": 7,
   "metadata": {},
   "outputs": [
    {
     "name": "stdout",
     "output_type": "stream",
     "text": [
      "Guess a number between 1 and 100.\n",
      " What is your guess? 2\n"
     ]
    }
   ],
   "source": [
    "while(TRUE){\n",
    "    # Take the user input \"guess\" and store it as an integer in the variable guess\n",
    "    guess = as.integer(readline(prompt=\"Guess a number between 1 and 100.\\n What is your guess? \"))\n",
    "    # Evaluate guess as between 1 and 100 or output \"Out of Bounds\" statement\n",
    "    if (guess < 1 | guess > 100){\n",
    "        message(\"OUT OF BOUNDS. Please Try Again:\")\n",
    "        next\n",
    "    }\n",
    "\n",
    "    break\n",
    "}"
   ]
  },
  {
   "cell_type": "code",
   "execution_count": 8,
   "metadata": {},
   "outputs": [
    {
     "name": "stdout",
     "output_type": "stream",
     "text": [
      "Guess a number between 1 and 100.\n",
      " What is your guess? 56\n"
     ]
    },
    {
     "name": "stderr",
     "output_type": "stream",
     "text": [
      "Cold!\n"
     ]
    },
    {
     "name": "stdout",
     "output_type": "stream",
     "text": [
      "Guess a number between 1 and 100.\n",
      " What is your guess? 60\n"
     ]
    },
    {
     "name": "stderr",
     "output_type": "stream",
     "text": [
      "Colder!\n"
     ]
    },
    {
     "name": "stdout",
     "output_type": "stream",
     "text": [
      "Guess a number between 1 and 100.\n",
      " What is your guess? 57\n"
     ]
    },
    {
     "name": "stderr",
     "output_type": "stream",
     "text": [
      "Warmer!\n"
     ]
    },
    {
     "name": "stdout",
     "output_type": "stream",
     "text": [
      "Guess a number between 1 and 100.\n",
      " What is your guess? 61\n"
     ]
    },
    {
     "name": "stderr",
     "output_type": "stream",
     "text": [
      "Colder!\n"
     ]
    },
    {
     "name": "stdout",
     "output_type": "stream",
     "text": [
      "Guess a number between 1 and 100.\n",
      " What is your guess? 59\n"
     ]
    },
    {
     "name": "stderr",
     "output_type": "stream",
     "text": [
      "Warmer!\n"
     ]
    },
    {
     "name": "stdout",
     "output_type": "stream",
     "text": [
      "Guess a number between 1 and 100.\n",
      " What is your guess? 2\n"
     ]
    },
    {
     "name": "stderr",
     "output_type": "stream",
     "text": [
      "Colder!\n"
     ]
    },
    {
     "name": "stdout",
     "output_type": "stream",
     "text": [
      "Guess a number between 1 and 100.\n",
      " What is your guess? 3\n"
     ]
    },
    {
     "name": "stderr",
     "output_type": "stream",
     "text": [
      "Warmer!\n"
     ]
    },
    {
     "name": "stdout",
     "output_type": "stream",
     "text": [
      "Guess a number between 1 and 100.\n",
      " What is your guess? 70\n"
     ]
    },
    {
     "name": "stderr",
     "output_type": "stream",
     "text": [
      "Colder!\n"
     ]
    },
    {
     "name": "stdout",
     "output_type": "stream",
     "text": [
      "Guess a number between 1 and 100.\n",
      " What is your guess? 71\n"
     ]
    },
    {
     "name": "stderr",
     "output_type": "stream",
     "text": [
      "Colder!\n"
     ]
    },
    {
     "name": "stdout",
     "output_type": "stream",
     "text": [
      "Guess a number between 1 and 100.\n",
      " What is your guess? 4\n"
     ]
    },
    {
     "name": "stderr",
     "output_type": "stream",
     "text": [
      "Warmer!\n"
     ]
    },
    {
     "name": "stdout",
     "output_type": "stream",
     "text": [
      "Guess a number between 1 and 100.\n",
      " What is your guess? 1\n"
     ]
    },
    {
     "name": "stderr",
     "output_type": "stream",
     "text": [
      "Colder!\n"
     ]
    },
    {
     "name": "stdout",
     "output_type": "stream",
     "text": [
      "Guess a number between 1 and 100.\n",
      " What is your guess? 5\n"
     ]
    },
    {
     "name": "stderr",
     "output_type": "stream",
     "text": [
      "Warmer!\n"
     ]
    },
    {
     "name": "stdout",
     "output_type": "stream",
     "text": [
      "Guess a number between 1 and 100.\n",
      " What is your guess? 6\n"
     ]
    },
    {
     "name": "stderr",
     "output_type": "stream",
     "text": [
      "Warmer!\n"
     ]
    },
    {
     "name": "stdout",
     "output_type": "stream",
     "text": [
      "Guess a number between 1 and 100.\n",
      " What is your guess? 7\n"
     ]
    },
    {
     "name": "stderr",
     "output_type": "stream",
     "text": [
      "Warmer!\n"
     ]
    },
    {
     "name": "stdout",
     "output_type": "stream",
     "text": [
      "Guess a number between 1 and 100.\n",
      " What is your guess? 10\n"
     ]
    },
    {
     "name": "stderr",
     "output_type": "stream",
     "text": [
      "Warmer!\n"
     ]
    },
    {
     "name": "stdout",
     "output_type": "stream",
     "text": [
      "Guess a number between 1 and 100.\n",
      " What is your guess? 30\n"
     ]
    },
    {
     "name": "stderr",
     "output_type": "stream",
     "text": [
      "Warmer!\n"
     ]
    },
    {
     "name": "stdout",
     "output_type": "stream",
     "text": [
      "Guess a number between 1 and 100.\n",
      " What is your guess? 40\n"
     ]
    },
    {
     "name": "stderr",
     "output_type": "stream",
     "text": [
      "Colder!\n"
     ]
    },
    {
     "name": "stdout",
     "output_type": "stream",
     "text": [
      "Guess a number between 1 and 100.\n",
      " What is your guess? 50\n"
     ]
    },
    {
     "name": "stderr",
     "output_type": "stream",
     "text": [
      "Colder!\n"
     ]
    },
    {
     "name": "stdout",
     "output_type": "stream",
     "text": [
      "Guess a number between 1 and 100.\n",
      " What is your guess? 51\n"
     ]
    },
    {
     "name": "stderr",
     "output_type": "stream",
     "text": [
      "Colder!\n"
     ]
    },
    {
     "name": "stdout",
     "output_type": "stream",
     "text": [
      "Guess a number between 1 and 100.\n",
      " What is your guess? 45\n"
     ]
    },
    {
     "name": "stderr",
     "output_type": "stream",
     "text": [
      "Warmer!\n"
     ]
    },
    {
     "name": "stdout",
     "output_type": "stream",
     "text": [
      "Guess a number between 1 and 100.\n",
      " What is your guess? 48\n"
     ]
    },
    {
     "name": "stderr",
     "output_type": "stream",
     "text": [
      "Colder!\n"
     ]
    },
    {
     "name": "stdout",
     "output_type": "stream",
     "text": [
      "Guess a number between 1 and 100.\n",
      " What is your guess? 45\n"
     ]
    },
    {
     "name": "stderr",
     "output_type": "stream",
     "text": [
      "Warmer!\n"
     ]
    },
    {
     "name": "stdout",
     "output_type": "stream",
     "text": [
      "Guess a number between 1 and 100.\n",
      " What is your guess? 40\n"
     ]
    },
    {
     "name": "stderr",
     "output_type": "stream",
     "text": [
      "Warmer!\n"
     ]
    },
    {
     "name": "stdout",
     "output_type": "stream",
     "text": [
      "Guess a number between 1 and 100.\n",
      " What is your guess? 38\n"
     ]
    },
    {
     "name": "stderr",
     "output_type": "stream",
     "text": [
      "Warmer!\n"
     ]
    },
    {
     "name": "stdout",
     "output_type": "stream",
     "text": [
      "Guess a number between 1 and 100.\n",
      " What is your guess? 35\n"
     ]
    },
    {
     "name": "stderr",
     "output_type": "stream",
     "text": [
      "Congratulations. You guessed the number in 25 guesses!\n"
     ]
    }
   ],
   "source": [
    "while(TRUE){\n",
    "    # Take the user input \"guess\" and store it as an integer in the variable guess\n",
    "    guess = as.integer(readline(prompt=\"Guess a number between 1 and 100.\\n What is your guess? \"))\n",
    "    # Evaluate guess as between 1 and 100 or output \"Out of Bounds\" statement\n",
    "    if (guess < 1 | guess > 100){\n",
    "        message(\"OUT OF BOUNDS. Please Try Again:\")\n",
    "        next\n",
    "    }\n",
    "    # Here we compare the player's guess to the stored num from random.randint\n",
    "    if (guess == num){\n",
    "        message(sprintf(\"Congratulations. You guessed the number in %s guesses!\",length(guesses)))\n",
    "        break\n",
    "    #If the guess is correct, end the loop\n",
    "    }\n",
    "    # If guess is incorrect, add guess to the list using append\n",
    "    guesses <- append(guesses, guess)\n",
    "    # When testing the first guess, guesses[length(guesses)-1]==0, which evaluates to False\n",
    "    # and brings us down to the second section\n",
    "    if (guesses[length(guesses)-1]){\n",
    "        if (abs(num-guess) < abs(num-guesses[length(guesses)-1])){\n",
    "            message(\"Warmer!\")\n",
    "        }else{\n",
    "            message(\"Colder!\")\n",
    "        }\n",
    "    }\n",
    "    #The first guess will tell you if you are warm or cold... \n",
    "    #all subsequent guesses will tell you warmer or colder\n",
    "    else{\n",
    "        if (abs(num-guess) <= 10){\n",
    "            message(\"Warm!\")\n",
    "        }else{\n",
    "            message(\"Cold!\")\n",
    "        }\n",
    "    }\n",
    "}"
   ]
  },
  {
   "cell_type": "markdown",
   "metadata": {},
   "source": [
    "This is awesome! How would I use it in turfgrass, I do not know lol."
   ]
  }
 ],
 "metadata": {
  "kernelspec": {
   "display_name": "R",
   "language": "R",
   "name": "ir"
  },
  "language_info": {
   "codemirror_mode": "r",
   "file_extension": ".r",
   "mimetype": "text/x-r-source",
   "name": "R",
   "pygments_lexer": "r",
   "version": "3.6.1"
  }
 },
 "nbformat": 4,
 "nbformat_minor": 2
}
