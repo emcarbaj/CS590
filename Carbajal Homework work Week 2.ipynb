{
 "cells": [
  {
   "cell_type": "code",
   "execution_count": 206,
   "metadata": {},
   "outputs": [
    {
     "data": {
      "text/html": [
       "32"
      ],
      "text/latex": [
       "32"
      ],
      "text/markdown": [
       "32"
      ],
      "text/plain": [
       "[1] 32"
      ]
     },
     "metadata": {},
     "output_type": "display_data"
    }
   ],
   "source": [
    "# I can do Exponent this way\n",
    "2^5"
   ]
  },
  {
   "cell_type": "code",
   "execution_count": 207,
   "metadata": {},
   "outputs": [
    {
     "data": {
      "text/html": [
       "32"
      ],
      "text/latex": [
       "32"
      ],
      "text/markdown": [
       "32"
      ],
      "text/plain": [
       "[1] 32"
      ]
     },
     "metadata": {},
     "output_type": "display_data"
    }
   ],
   "source": [
    "#or I can do exponent this way as well\n",
    "2**5"
   ]
  },
  {
   "cell_type": "code",
   "execution_count": 208,
   "metadata": {},
   "outputs": [],
   "source": [
    "#This is how to create a vector \n",
    "peanut.weight <- c(89.4, 78.2, 91.4, 95.2, 105.5)"
   ]
  },
  {
   "cell_type": "code",
   "execution_count": 210,
   "metadata": {
    "scrolled": true
   },
   "outputs": [
    {
     "data": {
      "text/html": [
       "<ol class=list-inline>\n",
       "\t<li>89.4</li>\n",
       "\t<li>78.2</li>\n",
       "\t<li>91.4</li>\n",
       "\t<li>95.2</li>\n",
       "\t<li>105.5</li>\n",
       "</ol>\n"
      ],
      "text/latex": [
       "\\begin{enumerate*}\n",
       "\\item 89.4\n",
       "\\item 78.2\n",
       "\\item 91.4\n",
       "\\item 95.2\n",
       "\\item 105.5\n",
       "\\end{enumerate*}\n"
      ],
      "text/markdown": [
       "1. 89.4\n",
       "2. 78.2\n",
       "3. 91.4\n",
       "4. 95.2\n",
       "5. 105.5\n",
       "\n",
       "\n"
      ],
      "text/plain": [
       "[1]  89.4  78.2  91.4  95.2 105.5"
      ]
     },
     "metadata": {},
     "output_type": "display_data"
    }
   ],
   "source": [
    "#I have to put the name first to see results from before\n",
    "peanut.weight"
   ]
  },
  {
   "cell_type": "code",
   "execution_count": 211,
   "metadata": {},
   "outputs": [],
   "source": [
    "# Need to merge a two datas from two vector \n",
    "names(peanut.weight) <- c('Sullivan', 'Bailey', 'Bailey II', 'Emery', 'Wynne')"
   ]
  },
  {
   "cell_type": "code",
   "execution_count": 213,
   "metadata": {
    "scrolled": true
   },
   "outputs": [
    {
     "data": {
      "text/html": [
       "<dl class=dl-horizontal>\n",
       "\t<dt>Sullivan</dt>\n",
       "\t\t<dd>89.4</dd>\n",
       "\t<dt>Bailey</dt>\n",
       "\t\t<dd>78.2</dd>\n",
       "\t<dt>Bailey II</dt>\n",
       "\t\t<dd>91.4</dd>\n",
       "\t<dt>Emery</dt>\n",
       "\t\t<dd>95.2</dd>\n",
       "\t<dt>Wynne</dt>\n",
       "\t\t<dd>105.5</dd>\n",
       "</dl>\n"
      ],
      "text/latex": [
       "\\begin{description*}\n",
       "\\item[Sullivan] 89.4\n",
       "\\item[Bailey] 78.2\n",
       "\\item[Bailey II] 91.4\n",
       "\\item[Emery] 95.2\n",
       "\\item[Wynne] 105.5\n",
       "\\end{description*}\n"
      ],
      "text/markdown": [
       "Sullivan\n",
       ":   89.4Bailey\n",
       ":   78.2Bailey II\n",
       ":   91.4Emery\n",
       ":   95.2Wynne\n",
       ":   105.5\n",
       "\n"
      ],
      "text/plain": [
       " Sullivan    Bailey Bailey II     Emery     Wynne \n",
       "     89.4      78.2      91.4      95.2     105.5 "
      ]
     },
     "metadata": {},
     "output_type": "display_data"
    }
   ],
   "source": [
    "#Testing if the two vector changed in the given order\n",
    "peanut.weight"
   ]
  },
  {
   "cell_type": "code",
   "execution_count": 215,
   "metadata": {},
   "outputs": [
    {
     "data": {
      "text/html": [
       "91.94"
      ],
      "text/latex": [
       "91.94"
      ],
      "text/markdown": [
       "91.94"
      ],
      "text/plain": [
       "[1] 91.94"
      ]
     },
     "metadata": {},
     "output_type": "display_data"
    }
   ],
   "source": [
    "#Average means mean in R\n",
    "mean(peanut.weight)"
   ]
  },
  {
   "cell_type": "code",
   "execution_count": 218,
   "metadata": {},
   "outputs": [],
   "source": [
    "#logicals with peanuts with more than 90 grams per 100 seeds\n",
    "#sometimes I get false or true I need to ajust my code to have real values\n",
    "over.90 <-(peanut.weight[peanut.weight>90])"
   ]
  },
  {
   "cell_type": "code",
   "execution_count": 219,
   "metadata": {},
   "outputs": [
    {
     "data": {
      "text/html": [
       "<dl class=dl-horizontal>\n",
       "\t<dt>Bailey II</dt>\n",
       "\t\t<dd>91.4</dd>\n",
       "\t<dt>Emery</dt>\n",
       "\t\t<dd>95.2</dd>\n",
       "\t<dt>Wynne</dt>\n",
       "\t\t<dd>105.5</dd>\n",
       "</dl>\n"
      ],
      "text/latex": [
       "\\begin{description*}\n",
       "\\item[Bailey II] 91.4\n",
       "\\item[Emery] 95.2\n",
       "\\item[Wynne] 105.5\n",
       "\\end{description*}\n"
      ],
      "text/markdown": [
       "Bailey II\n",
       ":   91.4Emery\n",
       ":   95.2Wynne\n",
       ":   105.5\n",
       "\n"
      ],
      "text/plain": [
       "Bailey II     Emery     Wynne \n",
       "     91.4      95.2     105.5 "
      ]
     },
     "metadata": {},
     "output_type": "display_data"
    }
   ],
   "source": [
    "# Testing. \n",
    "over.90"
   ]
  },
  {
   "cell_type": "code",
   "execution_count": 221,
   "metadata": {},
   "outputs": [
    {
     "data": {
      "text/html": [
       "91.4"
      ],
      "text/latex": [
       "91.4"
      ],
      "text/markdown": [
       "91.4"
      ],
      "text/plain": [
       "[1] 91.4"
      ]
     },
     "metadata": {},
     "output_type": "display_data"
    }
   ],
   "source": [
    "# This is the small value from the Seeds group performing over 90 gram\n",
    "min(over.90)"
   ]
  },
  {
   "cell_type": "code",
   "execution_count": 222,
   "metadata": {},
   "outputs": [
    {
     "data": {
      "text/html": [
       "'The cultivar Bailey II has a seed weight of 91.4 grams per 100 seeds'"
      ],
      "text/latex": [
       "'The cultivar Bailey II has a seed weight of 91.4 grams per 100 seeds'"
      ],
      "text/markdown": [
       "'The cultivar Bailey II has a seed weight of 91.4 grams per 100 seeds'"
      ],
      "text/plain": [
       "[1] \"The cultivar Bailey II has a seed weight of 91.4 grams per 100 seeds\""
      ]
     },
     "metadata": {},
     "output_type": "display_data"
    }
   ],
   "source": [
    "# Printing funtions\n",
    "# Need to go over this again\n",
    "Cultivar = 'Bailey II'\n",
    "Weight = '91.4 grams per 100 seeds'\n",
    "sprintf('The cultivar %s has a seed weight of %s', Cultivar, Weight )"
   ]
  },
  {
   "cell_type": "code",
   "execution_count": null,
   "metadata": {},
   "outputs": [],
   "source": []
  }
 ],
 "metadata": {
  "kernelspec": {
   "display_name": "R",
   "language": "R",
   "name": "ir"
  },
  "language_info": {
   "codemirror_mode": "r",
   "file_extension": ".r",
   "mimetype": "text/x-r-source",
   "name": "R",
   "pygments_lexer": "r",
   "version": "3.6.1"
  }
 },
 "nbformat": 4,
 "nbformat_minor": 2
}
