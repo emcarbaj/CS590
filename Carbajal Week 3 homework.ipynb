{
 "cells": [
  {
   "cell_type": "code",
   "execution_count": 52,
   "metadata": {},
   "outputs": [],
   "source": [
    "#create vectors for my matrix\n",
    "A<- c(1,2,3)\n",
    "B<- c(4,5,6)"
   ]
  },
  {
   "cell_type": "code",
   "execution_count": 74,
   "metadata": {},
   "outputs": [
    {
     "data": {
      "text/html": [
       "<ol class=list-inline>\n",
       "\t<li>1</li>\n",
       "\t<li>2</li>\n",
       "\t<li>3</li>\n",
       "</ol>\n"
      ],
      "text/latex": [
       "\\begin{enumerate*}\n",
       "\\item 1\n",
       "\\item 2\n",
       "\\item 3\n",
       "\\end{enumerate*}\n"
      ],
      "text/markdown": [
       "1. 1\n",
       "2. 2\n",
       "3. 3\n",
       "\n",
       "\n"
      ],
      "text/plain": [
       "[1] 1 2 3"
      ]
     },
     "metadata": {},
     "output_type": "display_data"
    },
    {
     "data": {
      "text/html": [
       "<ol class=list-inline>\n",
       "\t<li>4</li>\n",
       "\t<li>5</li>\n",
       "\t<li>6</li>\n",
       "</ol>\n"
      ],
      "text/latex": [
       "\\begin{enumerate*}\n",
       "\\item 4\n",
       "\\item 5\n",
       "\\item 6\n",
       "\\end{enumerate*}\n"
      ],
      "text/markdown": [
       "1. 4\n",
       "2. 5\n",
       "3. 6\n",
       "\n",
       "\n"
      ],
      "text/plain": [
       "[1] 4 5 6"
      ]
     },
     "metadata": {},
     "output_type": "display_data"
    }
   ],
   "source": [
    "# testing my vectors\n",
    "A\n",
    "B"
   ]
  },
  {
   "cell_type": "code",
   "execution_count": 75,
   "metadata": {},
   "outputs": [
    {
     "data": {
      "text/html": [
       "<table>\n",
       "<tbody>\n",
       "\t<tr><th scope=row>A</th><td>1</td><td>2</td><td>3</td></tr>\n",
       "\t<tr><th scope=row>B</th><td>4</td><td>5</td><td>6</td></tr>\n",
       "</tbody>\n",
       "</table>\n"
      ],
      "text/latex": [
       "\\begin{tabular}{r|lll}\n",
       "\tA & 1 & 2 & 3\\\\\n",
       "\tB & 4 & 5 & 6\\\\\n",
       "\\end{tabular}\n"
      ],
      "text/markdown": [
       "\n",
       "| A | 1 | 2 | 3 |\n",
       "| B | 4 | 5 | 6 |\n",
       "\n"
      ],
      "text/plain": [
       "  [,1] [,2] [,3]\n",
       "A 1    2    3   \n",
       "B 4    5    6   "
      ]
     },
     "metadata": {},
     "output_type": "display_data"
    }
   ],
   "source": [
    "#adding A and B tas a new colum\n",
    "rbind(A,B)"
   ]
  },
  {
   "cell_type": "code",
   "execution_count": 76,
   "metadata": {},
   "outputs": [],
   "source": [
    "# Create a 3 x 3 matrix consisting of the numbers 1-9\n",
    "mat<- matrix(1:9, nrow=3)"
   ]
  },
  {
   "cell_type": "code",
   "execution_count": 77,
   "metadata": {},
   "outputs": [
    {
     "data": {
      "text/html": [
       "<table>\n",
       "<tbody>\n",
       "\t<tr><td>1</td><td>4</td><td>7</td></tr>\n",
       "\t<tr><td>2</td><td>5</td><td>8</td></tr>\n",
       "\t<tr><td>3</td><td>6</td><td>9</td></tr>\n",
       "</tbody>\n",
       "</table>\n"
      ],
      "text/latex": [
       "\\begin{tabular}{lll}\n",
       "\t 1 & 4 & 7\\\\\n",
       "\t 2 & 5 & 8\\\\\n",
       "\t 3 & 6 & 9\\\\\n",
       "\\end{tabular}\n"
      ],
      "text/markdown": [
       "\n",
       "| 1 | 4 | 7 |\n",
       "| 2 | 5 | 8 |\n",
       "| 3 | 6 | 9 |\n",
       "\n"
      ],
      "text/plain": [
       "     [,1] [,2] [,3]\n",
       "[1,] 1    4    7   \n",
       "[2,] 2    5    8   \n",
       "[3,] 3    6    9   "
      ]
     },
     "metadata": {},
     "output_type": "display_data"
    }
   ],
   "source": [
    "# testing matrix\n",
    "mat"
   ]
  },
  {
   "cell_type": "code",
   "execution_count": 78,
   "metadata": {},
   "outputs": [
    {
     "data": {
      "text/html": [
       "TRUE"
      ],
      "text/latex": [
       "TRUE"
      ],
      "text/markdown": [
       "TRUE"
      ],
      "text/plain": [
       "[1] TRUE"
      ]
     },
     "metadata": {},
     "output_type": "display_data"
    }
   ],
   "source": [
    "#confirming that is a matrix\n",
    "class(mat) =='matrix'"
   ]
  },
  {
   "cell_type": "code",
   "execution_count": 79,
   "metadata": {},
   "outputs": [],
   "source": [
    "#Create a 5 x 5 matrix consisting of the numbers 1-25 \n",
    "mat2 <- matrix(1:25,nrow=5, byrow=TRUE)"
   ]
  },
  {
   "cell_type": "code",
   "execution_count": 81,
   "metadata": {},
   "outputs": [
    {
     "data": {
      "text/html": [
       "<table>\n",
       "<tbody>\n",
       "\t<tr><td> 1</td><td> 2</td><td> 3</td><td> 4</td><td> 5</td></tr>\n",
       "\t<tr><td> 6</td><td> 7</td><td> 8</td><td> 9</td><td>10</td></tr>\n",
       "\t<tr><td>11</td><td>12</td><td>13</td><td>14</td><td>15</td></tr>\n",
       "\t<tr><td>16</td><td>17</td><td>18</td><td>19</td><td>20</td></tr>\n",
       "\t<tr><td>21</td><td>22</td><td>23</td><td>24</td><td>25</td></tr>\n",
       "</tbody>\n",
       "</table>\n"
      ],
      "text/latex": [
       "\\begin{tabular}{lllll}\n",
       "\t  1 &  2 &  3 &  4 &  5\\\\\n",
       "\t  6 &  7 &  8 &  9 & 10\\\\\n",
       "\t 11 & 12 & 13 & 14 & 15\\\\\n",
       "\t 16 & 17 & 18 & 19 & 20\\\\\n",
       "\t 21 & 22 & 23 & 24 & 25\\\\\n",
       "\\end{tabular}\n"
      ],
      "text/markdown": [
       "\n",
       "|  1 |  2 |  3 |  4 |  5 |\n",
       "|  6 |  7 |  8 |  9 | 10 |\n",
       "| 11 | 12 | 13 | 14 | 15 |\n",
       "| 16 | 17 | 18 | 19 | 20 |\n",
       "| 21 | 22 | 23 | 24 | 25 |\n",
       "\n"
      ],
      "text/plain": [
       "     [,1] [,2] [,3] [,4] [,5]\n",
       "[1,]  1    2    3    4    5  \n",
       "[2,]  6    7    8    9   10  \n",
       "[3,] 11   12   13   14   15  \n",
       "[4,] 16   17   18   19   20  \n",
       "[5,] 21   22   23   24   25  "
      ]
     },
     "metadata": {},
     "output_type": "display_data"
    }
   ],
   "source": [
    "# Testing the matrix\n",
    "mat2"
   ]
  },
  {
   "cell_type": "code",
   "execution_count": 82,
   "metadata": {},
   "outputs": [
    {
     "data": {
      "text/html": [
       "<table>\n",
       "<tbody>\n",
       "\t<tr><td> 7</td><td> 8</td></tr>\n",
       "\t<tr><td>12</td><td>13</td></tr>\n",
       "</tbody>\n",
       "</table>\n"
      ],
      "text/latex": [
       "\\begin{tabular}{ll}\n",
       "\t  7 &  8\\\\\n",
       "\t 12 & 13\\\\\n",
       "\\end{tabular}\n"
      ],
      "text/markdown": [
       "\n",
       "|  7 |  8 |\n",
       "| 12 | 13 |\n",
       "\n"
      ],
      "text/plain": [
       "     [,1] [,2]\n",
       "[1,]  7    8  \n",
       "[2,] 12   13  "
      ]
     },
     "metadata": {},
     "output_type": "display_data"
    }
   ],
   "source": [
    "# taking out specific numbers from matrix \n",
    "mat2[2:3,2:3]"
   ]
  },
  {
   "cell_type": "code",
   "execution_count": 83,
   "metadata": {},
   "outputs": [
    {
     "data": {
      "text/html": [
       "<table>\n",
       "<tbody>\n",
       "\t<tr><td>19</td><td>20</td></tr>\n",
       "\t<tr><td>24</td><td>25</td></tr>\n",
       "</tbody>\n",
       "</table>\n"
      ],
      "text/latex": [
       "\\begin{tabular}{ll}\n",
       "\t 19 & 20\\\\\n",
       "\t 24 & 25\\\\\n",
       "\\end{tabular}\n"
      ],
      "text/markdown": [
       "\n",
       "| 19 | 20 |\n",
       "| 24 | 25 |\n",
       "\n"
      ],
      "text/plain": [
       "     [,1] [,2]\n",
       "[1,] 19   20  \n",
       "[2,] 24   25  "
      ]
     },
     "metadata": {},
     "output_type": "display_data"
    }
   ],
   "source": [
    "# taking out specific numbers from matrix \n",
    "mat2[4:5, 4:5]"
   ]
  },
  {
   "cell_type": "code",
   "execution_count": 84,
   "metadata": {},
   "outputs": [
    {
     "data": {
      "text/html": [
       "325"
      ],
      "text/latex": [
       "325"
      ],
      "text/markdown": [
       "325"
      ],
      "text/plain": [
       "[1] 325"
      ]
     },
     "metadata": {},
     "output_type": "display_data"
    }
   ],
   "source": [
    "# sum of all elements on the matrix \n",
    "sum(mat2)"
   ]
  },
  {
   "cell_type": "code",
   "execution_count": 63,
   "metadata": {},
   "outputs": [],
   "source": [
    "# this is to look for information about built in functions\n",
    "help(runif)"
   ]
  },
  {
   "cell_type": "code",
   "execution_count": 85,
   "metadata": {},
   "outputs": [],
   "source": [
    "# Using runif for the first time. It creates random numbers\n",
    "maybe <- runif(20)"
   ]
  },
  {
   "cell_type": "code",
   "execution_count": 86,
   "metadata": {},
   "outputs": [
    {
     "data": {
      "text/html": [
       "<ol class=list-inline>\n",
       "\t<li>0.272329463390633</li>\n",
       "\t<li>0.452474675839767</li>\n",
       "\t<li>0.212743173120543</li>\n",
       "\t<li>0.0633122141007334</li>\n",
       "\t<li>0.81561085395515</li>\n",
       "\t<li>0.480173857184127</li>\n",
       "\t<li>0.00610460550524294</li>\n",
       "\t<li>0.911309998948127</li>\n",
       "\t<li>0.905980460578576</li>\n",
       "\t<li>0.780405061552301</li>\n",
       "\t<li>0.364782196935266</li>\n",
       "\t<li>0.759066108381376</li>\n",
       "\t<li>0.85623192996718</li>\n",
       "\t<li>0.446725956629962</li>\n",
       "\t<li>0.0412563963327557</li>\n",
       "\t<li>0.582426798762754</li>\n",
       "\t<li>0.164857125841081</li>\n",
       "\t<li>0.860657964833081</li>\n",
       "\t<li>0.920224232133478</li>\n",
       "\t<li>0.292466890066862</li>\n",
       "</ol>\n"
      ],
      "text/latex": [
       "\\begin{enumerate*}\n",
       "\\item 0.272329463390633\n",
       "\\item 0.452474675839767\n",
       "\\item 0.212743173120543\n",
       "\\item 0.0633122141007334\n",
       "\\item 0.81561085395515\n",
       "\\item 0.480173857184127\n",
       "\\item 0.00610460550524294\n",
       "\\item 0.911309998948127\n",
       "\\item 0.905980460578576\n",
       "\\item 0.780405061552301\n",
       "\\item 0.364782196935266\n",
       "\\item 0.759066108381376\n",
       "\\item 0.85623192996718\n",
       "\\item 0.446725956629962\n",
       "\\item 0.0412563963327557\n",
       "\\item 0.582426798762754\n",
       "\\item 0.164857125841081\n",
       "\\item 0.860657964833081\n",
       "\\item 0.920224232133478\n",
       "\\item 0.292466890066862\n",
       "\\end{enumerate*}\n"
      ],
      "text/markdown": [
       "1. 0.272329463390633\n",
       "2. 0.452474675839767\n",
       "3. 0.212743173120543\n",
       "4. 0.0633122141007334\n",
       "5. 0.81561085395515\n",
       "6. 0.480173857184127\n",
       "7. 0.00610460550524294\n",
       "8. 0.911309998948127\n",
       "9. 0.905980460578576\n",
       "10. 0.780405061552301\n",
       "11. 0.364782196935266\n",
       "12. 0.759066108381376\n",
       "13. 0.85623192996718\n",
       "14. 0.446725956629962\n",
       "15. 0.0412563963327557\n",
       "16. 0.582426798762754\n",
       "17. 0.164857125841081\n",
       "18. 0.860657964833081\n",
       "19. 0.920224232133478\n",
       "20. 0.292466890066862\n",
       "\n",
       "\n"
      ],
      "text/plain": [
       " [1] 0.272329463 0.452474676 0.212743173 0.063312214 0.815610854 0.480173857\n",
       " [7] 0.006104606 0.911309999 0.905980461 0.780405062 0.364782197 0.759066108\n",
       "[13] 0.856231930 0.446725957 0.041256396 0.582426799 0.164857126 0.860657965\n",
       "[19] 0.920224232 0.292466890"
      ]
     },
     "metadata": {},
     "output_type": "display_data"
    }
   ],
   "source": [
    "#Testing the random numbers\n",
    "maybe"
   ]
  },
  {
   "cell_type": "code",
   "execution_count": 88,
   "metadata": {},
   "outputs": [],
   "source": [
    "# assigning random numbers to a matrix of 4 rows and 5 columns\n",
    "mat3<-matrix(maybe,byrow=TRUE,nrow=4)"
   ]
  },
  {
   "cell_type": "code",
   "execution_count": 89,
   "metadata": {},
   "outputs": [
    {
     "data": {
      "text/html": [
       "<table>\n",
       "<tbody>\n",
       "\t<tr><td>0.2723295  </td><td>0.452474676</td><td>0.2127432  </td><td>0.06331221 </td><td>0.8156109  </td></tr>\n",
       "\t<tr><td>0.4801739  </td><td>0.006104606</td><td>0.9113100  </td><td>0.90598046 </td><td>0.7804051  </td></tr>\n",
       "\t<tr><td>0.3647822  </td><td>0.759066108</td><td>0.8562319  </td><td>0.44672596 </td><td>0.0412564  </td></tr>\n",
       "\t<tr><td>0.5824268  </td><td>0.164857126</td><td>0.8606580  </td><td>0.92022423 </td><td>0.2924669  </td></tr>\n",
       "</tbody>\n",
       "</table>\n"
      ],
      "text/latex": [
       "\\begin{tabular}{lllll}\n",
       "\t 0.2723295   & 0.452474676 & 0.2127432   & 0.06331221  & 0.8156109  \\\\\n",
       "\t 0.4801739   & 0.006104606 & 0.9113100   & 0.90598046  & 0.7804051  \\\\\n",
       "\t 0.3647822   & 0.759066108 & 0.8562319   & 0.44672596  & 0.0412564  \\\\\n",
       "\t 0.5824268   & 0.164857126 & 0.8606580   & 0.92022423  & 0.2924669  \\\\\n",
       "\\end{tabular}\n"
      ],
      "text/markdown": [
       "\n",
       "| 0.2723295   | 0.452474676 | 0.2127432   | 0.06331221  | 0.8156109   |\n",
       "| 0.4801739   | 0.006104606 | 0.9113100   | 0.90598046  | 0.7804051   |\n",
       "| 0.3647822   | 0.759066108 | 0.8562319   | 0.44672596  | 0.0412564   |\n",
       "| 0.5824268   | 0.164857126 | 0.8606580   | 0.92022423  | 0.2924669   |\n",
       "\n"
      ],
      "text/plain": [
       "     [,1]      [,2]        [,3]      [,4]       [,5]     \n",
       "[1,] 0.2723295 0.452474676 0.2127432 0.06331221 0.8156109\n",
       "[2,] 0.4801739 0.006104606 0.9113100 0.90598046 0.7804051\n",
       "[3,] 0.3647822 0.759066108 0.8562319 0.44672596 0.0412564\n",
       "[4,] 0.5824268 0.164857126 0.8606580 0.92022423 0.2924669"
      ]
     },
     "metadata": {},
     "output_type": "display_data"
    }
   ],
   "source": [
    "mat3"
   ]
  },
  {
   "cell_type": "code",
   "execution_count": null,
   "metadata": {},
   "outputs": [],
   "source": []
  }
 ],
 "metadata": {
  "kernelspec": {
   "display_name": "R",
   "language": "R",
   "name": "ir"
  },
  "language_info": {
   "codemirror_mode": "r",
   "file_extension": ".r",
   "mimetype": "text/x-r-source",
   "name": "R",
   "pygments_lexer": "r",
   "version": "3.6.1"
  }
 },
 "nbformat": 4,
 "nbformat_minor": 2
}
