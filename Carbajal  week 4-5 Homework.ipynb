{
 "cells": [
  {
   "cell_type": "code",
   "execution_count": 11,
   "metadata": {},
   "outputs": [
    {
     "data": {
      "text/html": [
       "<table>\n",
       "<thead><tr><th scope=col>Var</th><th scope=col>OL_Ratio</th><th scope=col>Leaf_Spot</th><th scope=col>Drought</th></tr></thead>\n",
       "<tbody>\n",
       "\t<tr><td>N12006</td><td>76.2  </td><td>5.5   </td><td>TRUE  </td></tr>\n",
       "\t<tr><td>N13003</td><td>82.1  </td><td>7.2   </td><td>FALSE </td></tr>\n",
       "\t<tr><td>N13042</td><td>78.9  </td><td>6.5   </td><td>TRUE  </td></tr>\n",
       "\t<tr><td>N14002</td><td>74.3  </td><td>4.2   </td><td>FALSE </td></tr>\n",
       "\t<tr><td>N16021</td><td>77.7  </td><td>3.1   </td><td>FALSE </td></tr>\n",
       "</tbody>\n",
       "</table>\n"
      ],
      "text/latex": [
       "\\begin{tabular}{r|llll}\n",
       " Var & OL\\_Ratio & Leaf\\_Spot & Drought\\\\\n",
       "\\hline\n",
       "\t N12006 & 76.2   & 5.5    & TRUE  \\\\\n",
       "\t N13003 & 82.1   & 7.2    & FALSE \\\\\n",
       "\t N13042 & 78.9   & 6.5    & TRUE  \\\\\n",
       "\t N14002 & 74.3   & 4.2    & FALSE \\\\\n",
       "\t N16021 & 77.7   & 3.1    & FALSE \\\\\n",
       "\\end{tabular}\n"
      ],
      "text/markdown": [
       "\n",
       "| Var | OL_Ratio | Leaf_Spot | Drought |\n",
       "|---|---|---|---|\n",
       "| N12006 | 76.2   | 5.5    | TRUE   |\n",
       "| N13003 | 82.1   | 7.2    | FALSE  |\n",
       "| N13042 | 78.9   | 6.5    | TRUE   |\n",
       "| N14002 | 74.3   | 4.2    | FALSE  |\n",
       "| N16021 | 77.7   | 3.1    | FALSE  |\n",
       "\n"
      ],
      "text/plain": [
       "  Var    OL_Ratio Leaf_Spot Drought\n",
       "1 N12006 76.2     5.5       TRUE   \n",
       "2 N13003 82.1     7.2       FALSE  \n",
       "3 N13042 78.9     6.5       TRUE   \n",
       "4 N14002 74.3     4.2       FALSE  \n",
       "5 N16021 77.7     3.1       FALSE  "
      ]
     },
     "metadata": {},
     "output_type": "display_data"
    }
   ],
   "source": [
    "Var<- c('N12006', 'N13003', 'N13042', 'N14002', 'N16021')\n",
    "OL_Ratio <- c(76.2, 82.1, 78.9, 74.3, 77.7)\n",
    "Leaf_Spot <- c(5.5, 7.2, 6.5, 4.2, 3.1)\n",
    "Drought <- c('TRUE', 'FALSE', 'TRUE', 'FALSE','FALSE')\n",
    "df <- data.frame(Var, OL_Ratio, Leaf_Spot, Drought) \n",
    "df"
   ]
  },
  {
   "cell_type": "code",
   "execution_count": 12,
   "metadata": {},
   "outputs": [
    {
     "data": {
      "text/html": [
       "<table>\n",
       "<thead><tr><th></th><th scope=col>Var</th><th scope=col>OL_Ratio</th><th scope=col>Leaf_Spot</th><th scope=col>Drought</th></tr></thead>\n",
       "<tbody>\n",
       "\t<tr><th scope=row>1</th><td>N12006</td><td>76.2  </td><td>5.5   </td><td>TRUE  </td></tr>\n",
       "\t<tr><th scope=row>3</th><td>N13042</td><td>78.9  </td><td>6.5   </td><td>TRUE  </td></tr>\n",
       "</tbody>\n",
       "</table>\n"
      ],
      "text/latex": [
       "\\begin{tabular}{r|llll}\n",
       "  & Var & OL\\_Ratio & Leaf\\_Spot & Drought\\\\\n",
       "\\hline\n",
       "\t1 & N12006 & 76.2   & 5.5    & TRUE  \\\\\n",
       "\t3 & N13042 & 78.9   & 6.5    & TRUE  \\\\\n",
       "\\end{tabular}\n"
      ],
      "text/markdown": [
       "\n",
       "| <!--/--> | Var | OL_Ratio | Leaf_Spot | Drought |\n",
       "|---|---|---|---|---|\n",
       "| 1 | N12006 | 76.2   | 5.5    | TRUE   |\n",
       "| 3 | N13042 | 78.9   | 6.5    | TRUE   |\n",
       "\n"
      ],
      "text/plain": [
       "  Var    OL_Ratio Leaf_Spot Drought\n",
       "1 N12006 76.2     5.5       TRUE   \n",
       "3 N13042 78.9     6.5       TRUE   "
      ]
     },
     "metadata": {},
     "output_type": "display_data"
    }
   ],
   "source": [
    "subset (df, subset=Drought==TRUE)"
   ]
  },
  {
   "cell_type": "code",
   "execution_count": 21,
   "metadata": {},
   "outputs": [
    {
     "data": {
      "text/html": [
       "'/Users/esdrasmanuelcarbajalmelgar'"
      ],
      "text/latex": [
       "'/Users/esdrasmanuelcarbajalmelgar'"
      ],
      "text/markdown": [
       "'/Users/esdrasmanuelcarbajalmelgar'"
      ],
      "text/plain": [
       "[1] \"/Users/esdrasmanuelcarbajalmelgar\""
      ]
     },
     "metadata": {},
     "output_type": "display_data"
    }
   ],
   "source": [
    "getwd()"
   ]
  },
  {
   "cell_type": "code",
   "execution_count": 9,
   "metadata": {},
   "outputs": [
    {
     "ename": "ERROR",
     "evalue": "Error in parse(text = x, srcfile = src): <text>:1:8: unexpected symbol\n1: Peanut Database\n           ^\n",
     "output_type": "error",
     "traceback": [
      "Error in parse(text = x, srcfile = src): <text>:1:8: unexpected symbol\n1: Peanut Database\n           ^\nTraceback:\n"
     ]
    }
   ],
   "source": [
    "Peanut Database  <- read.csv('Peanut Database.csv')"
   ]
  },
  {
   "cell_type": "code",
   "execution_count": 10,
   "metadata": {},
   "outputs": [
    {
     "data": {
      "text/plain": [
       "NULL"
      ]
     },
     "metadata": {},
     "output_type": "display_data"
    }
   ],
   "source": [
    "colnames(Peanut Database)"
   ]
  },
  {
   "cell_type": "code",
   "execution_count": 11,
   "metadata": {},
   "outputs": [
    {
     "ename": "ERROR",
     "evalue": "Error in parse(text = x, srcfile = src): <text>:1:13: unexpected symbol\n1: head(Peanut Database\n                ^\n",
     "output_type": "error",
     "traceback": [
      "Error in parse(text = x, srcfile = src): <text>:1:13: unexpected symbol\n1: head(Peanut Database\n                ^\nTraceback:\n"
     ]
    }
   ],
   "source": [
    "head(Peanut Database)"
   ]
  },
  {
   "cell_type": "code",
   "execution_count": null,
   "metadata": {},
   "outputs": [],
   "source": [
    "Peanut Database$peanut_disease <- (Peanut Database$peanut_disease)\n",
    "frame disease_data <- Peanut Database$peanut_disease"
   ]
  },
  {
   "cell_type": "code",
   "execution_count": null,
   "metadata": {},
   "outputs": [],
   "source": [
    "leaf.spot <- subset(frame disease_data, Leaf Spot= TRUE==LS)"
   ]
  },
  {
   "cell_type": "code",
   "execution_count": null,
   "metadata": {},
   "outputs": [],
   "source": [
    "any(is.na(leaf.spot))"
   ]
  },
  {
   "cell_type": "code",
   "execution_count": null,
   "metadata": {},
   "outputs": [],
   "source": [
    "any(is.na(leaf.spot$Disease))"
   ]
  },
  {
   "cell_type": "code",
   "execution_count": null,
   "metadata": {},
   "outputs": [],
   "source": [
    "mean(leaf.spot, Year =2017)"
   ]
  },
  {
   "cell_type": "code",
   "execution_count": 12,
   "metadata": {},
   "outputs": [],
   "source": [
    "help(aggregate)"
   ]
  },
  {
   "cell_type": "code",
   "execution_count": 13,
   "metadata": {},
   "outputs": [
    {
     "name": "stdout",
     "output_type": "stream",
     "text": [
      "[1] TRUE\n",
      "[1] FALSE\n"
     ]
    }
   ],
   "source": [
    "#Example from the book\n",
    "v1 <- 8\n",
    "v2 <- 12\n",
    "t <- 1:10\n",
    "print(v1 %in% t) \n",
    "print(v2 %in% t) "
   ]
  },
  {
   "cell_type": "code",
   "execution_count": null,
   "metadata": {},
   "outputs": [],
   "source": [
    "line_names = 'Bailey', 'Bailey II', 'Wynne', 'Sullivan', 'Emery', 'N96076'"
   ]
  },
  {
   "cell_type": "code",
   "execution_count": 14,
   "metadata": {},
   "outputs": [],
   "source": [
    "help(aggregate)"
   ]
  },
  {
   "cell_type": "code",
   "execution_count": null,
   "metadata": {},
   "outputs": [],
   "source": [
    "min(leaf.spot)"
   ]
  },
  {
   "cell_type": "code",
   "execution_count": 15,
   "metadata": {},
   "outputs": [
    {
     "ename": "ERROR",
     "evalue": "Error in eval(expr, envir, enclos): object 'XLSX' not found\n",
     "output_type": "error",
     "traceback": [
      "Error in eval(expr, envir, enclos): object 'XLSX' not found\nTraceback:\n"
     ]
    }
   ],
   "source": [
    "XLSX"
   ]
  },
  {
   "cell_type": "code",
   "execution_count": 19,
   "metadata": {},
   "outputs": [
    {
     "name": "stderr",
     "output_type": "stream",
     "text": [
      "also installing the dependencies ‘rJava’, ‘xlsxjars’\n",
      "\n",
      "Warning message in install.packages(\"xlsx\", repos = \"http://cran.rstudio.com/\"):\n",
      "“installation of package ‘rJava’ had non-zero exit status”Warning message in install.packages(\"xlsx\", repos = \"http://cran.rstudio.com/\"):\n",
      "“installation of package ‘xlsxjars’ had non-zero exit status”Warning message in install.packages(\"xlsx\", repos = \"http://cran.rstudio.com/\"):\n",
      "“installation of package ‘xlsx’ had non-zero exit status”"
     ]
    }
   ],
   "source": [
    "install.packages('xlsx',repos=\"http://cran.rstudio.com/\")"
   ]
  },
  {
   "cell_type": "code",
   "execution_count": 20,
   "metadata": {},
   "outputs": [
    {
     "ename": "ERROR",
     "evalue": "Error in library(xlsx): there is no package called ‘xlsx’\n",
     "output_type": "error",
     "traceback": [
      "Error in library(xlsx): there is no package called ‘xlsx’\nTraceback:\n",
      "1. library(xlsx)"
     ]
    }
   ],
   "source": [
    "library(xlsx)"
   ]
  },
  {
   "cell_type": "code",
   "execution_count": null,
   "metadata": {},
   "outputs": [],
   "source": [
    "write.xlsx(Leaf Spot.xlsx, \"output.xlsx\")"
   ]
  },
  {
   "cell_type": "code",
   "execution_count": 21,
   "metadata": {},
   "outputs": [
    {
     "ename": "ERROR",
     "evalue": "Error in read_excel(\"output.xlsx\"): could not find function \"read_excel\"\n",
     "output_type": "error",
     "traceback": [
      "Error in read_excel(\"output.xlsx\"): could not find function \"read_excel\"\nTraceback:\n"
     ]
    }
   ],
   "source": [
    "read_excel(\"output.xlsx\")"
   ]
  },
  {
   "cell_type": "code",
   "execution_count": null,
   "metadata": {},
   "outputs": [],
   "source": []
  }
 ],
 "metadata": {
  "kernelspec": {
   "display_name": "R",
   "language": "R",
   "name": "ir"
  },
  "language_info": {
   "codemirror_mode": "r",
   "file_extension": ".r",
   "mimetype": "text/x-r-source",
   "name": "R",
   "pygments_lexer": "r",
   "version": "3.6.1"
  }
 },
 "nbformat": 4,
 "nbformat_minor": 2
}
