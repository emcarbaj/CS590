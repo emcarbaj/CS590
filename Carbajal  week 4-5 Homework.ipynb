{
 "cells": [
  {
   "cell_type": "code",
   "execution_count": 1,
   "metadata": {},
   "outputs": [
    {
     "data": {
      "text/html": [
       "<table>\n",
       "<thead><tr><th scope=col>Var</th><th scope=col>OL_Ratio</th><th scope=col>Leaf_Spot</th><th scope=col>Drought</th></tr></thead>\n",
       "<tbody>\n",
       "\t<tr><td>N12006</td><td>76.2  </td><td>5.5   </td><td>TRUE  </td></tr>\n",
       "\t<tr><td>N13003</td><td>82.1  </td><td>7.2   </td><td>FALSE </td></tr>\n",
       "\t<tr><td>N13042</td><td>78.9  </td><td>6.5   </td><td>TRUE  </td></tr>\n",
       "\t<tr><td>N14002</td><td>74.3  </td><td>4.2   </td><td>FALSE </td></tr>\n",
       "\t<tr><td>N16021</td><td>77.7  </td><td>3.1   </td><td>FALSE </td></tr>\n",
       "</tbody>\n",
       "</table>\n"
      ],
      "text/latex": [
       "\\begin{tabular}{r|llll}\n",
       " Var & OL\\_Ratio & Leaf\\_Spot & Drought\\\\\n",
       "\\hline\n",
       "\t N12006 & 76.2   & 5.5    & TRUE  \\\\\n",
       "\t N13003 & 82.1   & 7.2    & FALSE \\\\\n",
       "\t N13042 & 78.9   & 6.5    & TRUE  \\\\\n",
       "\t N14002 & 74.3   & 4.2    & FALSE \\\\\n",
       "\t N16021 & 77.7   & 3.1    & FALSE \\\\\n",
       "\\end{tabular}\n"
      ],
      "text/markdown": [
       "\n",
       "| Var | OL_Ratio | Leaf_Spot | Drought |\n",
       "|---|---|---|---|\n",
       "| N12006 | 76.2   | 5.5    | TRUE   |\n",
       "| N13003 | 82.1   | 7.2    | FALSE  |\n",
       "| N13042 | 78.9   | 6.5    | TRUE   |\n",
       "| N14002 | 74.3   | 4.2    | FALSE  |\n",
       "| N16021 | 77.7   | 3.1    | FALSE  |\n",
       "\n"
      ],
      "text/plain": [
       "  Var    OL_Ratio Leaf_Spot Drought\n",
       "1 N12006 76.2     5.5       TRUE   \n",
       "2 N13003 82.1     7.2       FALSE  \n",
       "3 N13042 78.9     6.5       TRUE   \n",
       "4 N14002 74.3     4.2       FALSE  \n",
       "5 N16021 77.7     3.1       FALSE  "
      ]
     },
     "metadata": {},
     "output_type": "display_data"
    }
   ],
   "source": [
    "Var<- c('N12006', 'N13003', 'N13042', 'N14002', 'N16021')\n",
    "OL_Ratio <- c(76.2, 82.1, 78.9, 74.3, 77.7)\n",
    "Leaf_Spot <- c(5.5, 7.2, 6.5, 4.2, 3.1)\n",
    "Drought <- c('TRUE', 'FALSE', 'TRUE', 'FALSE','FALSE')\n",
    "df <- data.frame(Var, OL_Ratio, Leaf_Spot, Drought) \n",
    "df"
   ]
  },
  {
   "cell_type": "code",
   "execution_count": 2,
   "metadata": {},
   "outputs": [
    {
     "data": {
      "text/html": [
       "<table>\n",
       "<thead><tr><th></th><th scope=col>Var</th><th scope=col>OL_Ratio</th><th scope=col>Leaf_Spot</th><th scope=col>Drought</th></tr></thead>\n",
       "<tbody>\n",
       "\t<tr><th scope=row>1</th><td>N12006</td><td>76.2  </td><td>5.5   </td><td>TRUE  </td></tr>\n",
       "\t<tr><th scope=row>3</th><td>N13042</td><td>78.9  </td><td>6.5   </td><td>TRUE  </td></tr>\n",
       "</tbody>\n",
       "</table>\n"
      ],
      "text/latex": [
       "\\begin{tabular}{r|llll}\n",
       "  & Var & OL\\_Ratio & Leaf\\_Spot & Drought\\\\\n",
       "\\hline\n",
       "\t1 & N12006 & 76.2   & 5.5    & TRUE  \\\\\n",
       "\t3 & N13042 & 78.9   & 6.5    & TRUE  \\\\\n",
       "\\end{tabular}\n"
      ],
      "text/markdown": [
       "\n",
       "| <!--/--> | Var | OL_Ratio | Leaf_Spot | Drought |\n",
       "|---|---|---|---|---|\n",
       "| 1 | N12006 | 76.2   | 5.5    | TRUE   |\n",
       "| 3 | N13042 | 78.9   | 6.5    | TRUE   |\n",
       "\n"
      ],
      "text/plain": [
       "  Var    OL_Ratio Leaf_Spot Drought\n",
       "1 N12006 76.2     5.5       TRUE   \n",
       "3 N13042 78.9     6.5       TRUE   "
      ]
     },
     "metadata": {},
     "output_type": "display_data"
    }
   ],
   "source": [
    "subset (df, subset=Drought==TRUE)"
   ]
  },
  {
   "cell_type": "code",
   "execution_count": 3,
   "metadata": {},
   "outputs": [
    {
     "data": {
      "text/html": [
       "'/Users/esdrasmanuelcarbajalmelgar'"
      ],
      "text/latex": [
       "'/Users/esdrasmanuelcarbajalmelgar'"
      ],
      "text/markdown": [
       "'/Users/esdrasmanuelcarbajalmelgar'"
      ],
      "text/plain": [
       "[1] \"/Users/esdrasmanuelcarbajalmelgar\""
      ]
     },
     "metadata": {},
     "output_type": "display_data"
    }
   ],
   "source": [
    "getwd()"
   ]
  },
  {
   "cell_type": "code",
   "execution_count": 5,
   "metadata": {},
   "outputs": [],
   "source": [
    "peanut_lines <- read.csv('peanut_lines.csv')\n",
    "peanut_disease <- read.table('peanut_disease.txt', sep='\\t', header=TRUE)"
   ]
  },
  {
   "cell_type": "code",
   "execution_count": 7,
   "metadata": {},
   "outputs": [
    {
     "data": {
      "text/html": [
       "<table>\n",
       "<thead><tr><th scope=col>Year</th><th scope=col>Location</th><th scope=col>Name</th><th scope=col>Label</th><th scope=col>NC_Accession</th><th scope=col>Rating</th><th scope=col>Disease</th></tr></thead>\n",
       "<tbody>\n",
       "\t<tr><td>2010                               </td><td>LEW                                </td><td>ATP-L                              </td><td>Advanced Testing Program - Leafspot</td><td>Bailey                             </td><td>LS                                 </td><td>2.50                               </td></tr>\n",
       "\t<tr><td>2010                               </td><td>LEW                                </td><td>ATP-L                              </td><td>Advanced Testing Program - Leafspot</td><td>Bailey                             </td><td>LS                                 </td><td>2.55                               </td></tr>\n",
       "\t<tr><td>2011                               </td><td>LEW                                </td><td>ATP-L                              </td><td>Advanced Testing Program - Leafspot</td><td>Bailey                             </td><td>LS                                 </td><td>7.17                               </td></tr>\n",
       "\t<tr><td>2011                               </td><td>LEW                                </td><td>ATP-L                              </td><td>Advanced Testing Program - Leafspot</td><td>Bailey                             </td><td>LS                                 </td><td>7.19                               </td></tr>\n",
       "\t<tr><td>2012                               </td><td>LEW                                </td><td>ATP-L                              </td><td>Advanced Testing Program - Leafspot</td><td>Bailey                             </td><td>LS                                 </td><td>2.00                               </td></tr>\n",
       "\t<tr><td>2012                               </td><td>LEW                                </td><td>ATP-L                              </td><td>Advanced Testing Program - Leafspot</td><td>Bailey                             </td><td>LS                                 </td><td>2.00                               </td></tr>\n",
       "</tbody>\n",
       "</table>\n"
      ],
      "text/latex": [
       "\\begin{tabular}{r|lllllll}\n",
       " Year & Location & Name & Label & NC\\_Accession & Rating & Disease\\\\\n",
       "\\hline\n",
       "\t 2010                                & LEW                                 & ATP-L                               & Advanced Testing Program - Leafspot & Bailey                              & LS                                  & 2.50                               \\\\\n",
       "\t 2010                                & LEW                                 & ATP-L                               & Advanced Testing Program - Leafspot & Bailey                              & LS                                  & 2.55                               \\\\\n",
       "\t 2011                                & LEW                                 & ATP-L                               & Advanced Testing Program - Leafspot & Bailey                              & LS                                  & 7.17                               \\\\\n",
       "\t 2011                                & LEW                                 & ATP-L                               & Advanced Testing Program - Leafspot & Bailey                              & LS                                  & 7.19                               \\\\\n",
       "\t 2012                                & LEW                                 & ATP-L                               & Advanced Testing Program - Leafspot & Bailey                              & LS                                  & 2.00                               \\\\\n",
       "\t 2012                                & LEW                                 & ATP-L                               & Advanced Testing Program - Leafspot & Bailey                              & LS                                  & 2.00                               \\\\\n",
       "\\end{tabular}\n"
      ],
      "text/markdown": [
       "\n",
       "| Year | Location | Name | Label | NC_Accession | Rating | Disease |\n",
       "|---|---|---|---|---|---|---|\n",
       "| 2010                                | LEW                                 | ATP-L                               | Advanced Testing Program - Leafspot | Bailey                              | LS                                  | 2.50                                |\n",
       "| 2010                                | LEW                                 | ATP-L                               | Advanced Testing Program - Leafspot | Bailey                              | LS                                  | 2.55                                |\n",
       "| 2011                                | LEW                                 | ATP-L                               | Advanced Testing Program - Leafspot | Bailey                              | LS                                  | 7.17                                |\n",
       "| 2011                                | LEW                                 | ATP-L                               | Advanced Testing Program - Leafspot | Bailey                              | LS                                  | 7.19                                |\n",
       "| 2012                                | LEW                                 | ATP-L                               | Advanced Testing Program - Leafspot | Bailey                              | LS                                  | 2.00                                |\n",
       "| 2012                                | LEW                                 | ATP-L                               | Advanced Testing Program - Leafspot | Bailey                              | LS                                  | 2.00                                |\n",
       "\n"
      ],
      "text/plain": [
       "  Year Location Name  Label                               NC_Accession Rating\n",
       "1 2010 LEW      ATP-L Advanced Testing Program - Leafspot Bailey       LS    \n",
       "2 2010 LEW      ATP-L Advanced Testing Program - Leafspot Bailey       LS    \n",
       "3 2011 LEW      ATP-L Advanced Testing Program - Leafspot Bailey       LS    \n",
       "4 2011 LEW      ATP-L Advanced Testing Program - Leafspot Bailey       LS    \n",
       "5 2012 LEW      ATP-L Advanced Testing Program - Leafspot Bailey       LS    \n",
       "6 2012 LEW      ATP-L Advanced Testing Program - Leafspot Bailey       LS    \n",
       "  Disease\n",
       "1 2.50   \n",
       "2 2.55   \n",
       "3 7.17   \n",
       "4 7.19   \n",
       "5 2.00   \n",
       "6 2.00   "
      ]
     },
     "metadata": {},
     "output_type": "display_data"
    }
   ],
   "source": [
    "head(peanut_disease)"
   ]
  },
  {
   "cell_type": "code",
   "execution_count": 8,
   "metadata": {},
   "outputs": [
    {
     "data": {
      "text/html": [
       "<table>\n",
       "<thead><tr><th scope=col>NC_Accession</th><th scope=col>Parentage</th><th scope=col>Pedigree</th><th scope=col>FAG</th></tr></thead>\n",
       "<tbody>\n",
       "\t<tr><td>ACI WT09-0761</td><td>ACI WT09-0761</td><td>             </td><td>Check        </td></tr>\n",
       "\t<tr><td>ACI WT11-0351</td><td>ACI WT11-0351</td><td>             </td><td>ol ol        </td></tr>\n",
       "\t<tr><td>ACI WT12-0226</td><td>ACI WT12-0226</td><td>             </td><td>ol ol        </td></tr>\n",
       "\t<tr><td>ACI WT12-0419</td><td>ACI WT12-0419</td><td>             </td><td>Check        </td></tr>\n",
       "\t<tr><td>ACI WT12-0420</td><td>ACI WT12-0420</td><td>             </td><td>ol ol        </td></tr>\n",
       "\t<tr><td>ACI WT12-0433</td><td>ACI WT12-0433</td><td>             </td><td>Check        </td></tr>\n",
       "</tbody>\n",
       "</table>\n"
      ],
      "text/latex": [
       "\\begin{tabular}{r|llll}\n",
       " NC\\_Accession & Parentage & Pedigree & FAG\\\\\n",
       "\\hline\n",
       "\t ACI WT09-0761 & ACI WT09-0761 &               & Check        \\\\\n",
       "\t ACI WT11-0351 & ACI WT11-0351 &               & ol ol        \\\\\n",
       "\t ACI WT12-0226 & ACI WT12-0226 &               & ol ol        \\\\\n",
       "\t ACI WT12-0419 & ACI WT12-0419 &               & Check        \\\\\n",
       "\t ACI WT12-0420 & ACI WT12-0420 &               & ol ol        \\\\\n",
       "\t ACI WT12-0433 & ACI WT12-0433 &               & Check        \\\\\n",
       "\\end{tabular}\n"
      ],
      "text/markdown": [
       "\n",
       "| NC_Accession | Parentage | Pedigree | FAG |\n",
       "|---|---|---|---|\n",
       "| ACI WT09-0761 | ACI WT09-0761 |               | Check         |\n",
       "| ACI WT11-0351 | ACI WT11-0351 |               | ol ol         |\n",
       "| ACI WT12-0226 | ACI WT12-0226 |               | ol ol         |\n",
       "| ACI WT12-0419 | ACI WT12-0419 |               | Check         |\n",
       "| ACI WT12-0420 | ACI WT12-0420 |               | ol ol         |\n",
       "| ACI WT12-0433 | ACI WT12-0433 |               | Check         |\n",
       "\n"
      ],
      "text/plain": [
       "  NC_Accession  Parentage     Pedigree FAG  \n",
       "1 ACI WT09-0761 ACI WT09-0761          Check\n",
       "2 ACI WT11-0351 ACI WT11-0351          ol ol\n",
       "3 ACI WT12-0226 ACI WT12-0226          ol ol\n",
       "4 ACI WT12-0419 ACI WT12-0419          Check\n",
       "5 ACI WT12-0420 ACI WT12-0420          ol ol\n",
       "6 ACI WT12-0433 ACI WT12-0433          Check"
      ]
     },
     "metadata": {},
     "output_type": "display_data"
    }
   ],
   "source": [
    "head(peanut_lines)"
   ]
  },
  {
   "cell_type": "code",
   "execution_count": 9,
   "metadata": {},
   "outputs": [
    {
     "data": {
      "text/html": [
       "<ol class=list-inline>\n",
       "\t<li>'Year'</li>\n",
       "\t<li>'Location'</li>\n",
       "\t<li>'Name'</li>\n",
       "\t<li>'Label'</li>\n",
       "\t<li>'NC_Accession'</li>\n",
       "\t<li>'Rating'</li>\n",
       "\t<li>'Disease'</li>\n",
       "</ol>\n"
      ],
      "text/latex": [
       "\\begin{enumerate*}\n",
       "\\item 'Year'\n",
       "\\item 'Location'\n",
       "\\item 'Name'\n",
       "\\item 'Label'\n",
       "\\item 'NC\\_Accession'\n",
       "\\item 'Rating'\n",
       "\\item 'Disease'\n",
       "\\end{enumerate*}\n"
      ],
      "text/markdown": [
       "1. 'Year'\n",
       "2. 'Location'\n",
       "3. 'Name'\n",
       "4. 'Label'\n",
       "5. 'NC_Accession'\n",
       "6. 'Rating'\n",
       "7. 'Disease'\n",
       "\n",
       "\n"
      ],
      "text/plain": [
       "[1] \"Year\"         \"Location\"     \"Name\"         \"Label\"        \"NC_Accession\"\n",
       "[6] \"Rating\"       \"Disease\"     "
      ]
     },
     "metadata": {},
     "output_type": "display_data"
    }
   ],
   "source": [
    "colnames(peanut_disease)"
   ]
  },
  {
   "cell_type": "code",
   "execution_count": 10,
   "metadata": {},
   "outputs": [],
   "source": [
    "disease_data <- merge(peanut_lines, peanut_disease, by.x='NC_Accession', by.y='NC_Accession', all.y = TRUE)"
   ]
  },
  {
   "cell_type": "code",
   "execution_count": 11,
   "metadata": {},
   "outputs": [
    {
     "data": {
      "text/html": [
       "<table>\n",
       "<thead><tr><th scope=col>NC_Accession</th><th scope=col>Parentage</th><th scope=col>Pedigree</th><th scope=col>FAG</th><th scope=col>Year</th><th scope=col>Location</th><th scope=col>Name</th><th scope=col>Label</th><th scope=col>Rating</th><th scope=col>Disease</th></tr></thead>\n",
       "<tbody>\n",
       "\t<tr><td>Bailey                                </td><td>NC 12C*2 / N96076L                    </td><td>BC1F1-06-01-S-03-S-05: F09            </td><td>+ +                                   </td><td>2010                                  </td><td>LEW                                   </td><td>ATP-T                                 </td><td>Advanced Testing Program - TSWV       </td><td>TSWV                                  </td><td>   0.3138                             </td></tr>\n",
       "\t<tr><td>Bailey                                </td><td>NC 12C*2 / N96076L                    </td><td>BC1F1-06-01-S-03-S-05: F09            </td><td>+ +                                   </td><td>2016                                  </td><td>RMT                                   </td><td>ATP-S                                 </td><td>Advanced Testing Program - Sclerotinia</td><td>SB                                    </td><td>   0.4619                             </td></tr>\n",
       "\t<tr><td>Bailey                                </td><td>NC 12C*2 / N96076L                    </td><td>BC1F1-06-01-S-03-S-05: F09            </td><td>+ +                                   </td><td>2010                                  </td><td>LEW                                   </td><td>ATP-L                                 </td><td>Advanced Testing Program - Leafspot   </td><td>Yield_UT                              </td><td>5112.0000                             </td></tr>\n",
       "\t<tr><td>Bailey                                </td><td>NC 12C*2 / N96076L                    </td><td>BC1F1-06-01-S-03-S-05: F09            </td><td>+ +                                   </td><td>2016                                  </td><td>RMT                                   </td><td>ATP-S                                 </td><td>Advanced Testing Program - Sclerotinia</td><td>SB                                    </td><td>   0.8611                             </td></tr>\n",
       "\t<tr><td>Bailey                                </td><td>NC 12C*2 / N96076L                    </td><td>BC1F1-06-01-S-03-S-05: F09            </td><td>+ +                                   </td><td>2015                                  </td><td>LEW                                   </td><td>ATP-L                                 </td><td>Advanced Testing Program - Leafspot   </td><td>Yield_UT                              </td><td>3373.0000                             </td></tr>\n",
       "\t<tr><td>Bailey                                </td><td>NC 12C*2 / N96076L                    </td><td>BC1F1-06-01-S-03-S-05: F09            </td><td>+ +                                   </td><td>2014                                  </td><td>LEW                                   </td><td>ATP-L                                 </td><td>Advanced Testing Program - Leafspot   </td><td>Yield_UT                              </td><td>2685.0000                             </td></tr>\n",
       "</tbody>\n",
       "</table>\n"
      ],
      "text/latex": [
       "\\begin{tabular}{r|llllllllll}\n",
       " NC\\_Accession & Parentage & Pedigree & FAG & Year & Location & Name & Label & Rating & Disease\\\\\n",
       "\\hline\n",
       "\t Bailey                                 & NC 12C*2 / N96076L                     & BC1F1-06-01-S-03-S-05: F09             & + +                                    & 2010                                   & LEW                                    & ATP-T                                  & Advanced Testing Program - TSWV        & TSWV                                   &    0.3138                             \\\\\n",
       "\t Bailey                                 & NC 12C*2 / N96076L                     & BC1F1-06-01-S-03-S-05: F09             & + +                                    & 2016                                   & RMT                                    & ATP-S                                  & Advanced Testing Program - Sclerotinia & SB                                     &    0.4619                             \\\\\n",
       "\t Bailey                                 & NC 12C*2 / N96076L                     & BC1F1-06-01-S-03-S-05: F09             & + +                                    & 2010                                   & LEW                                    & ATP-L                                  & Advanced Testing Program - Leafspot    & Yield\\_UT                             & 5112.0000                             \\\\\n",
       "\t Bailey                                 & NC 12C*2 / N96076L                     & BC1F1-06-01-S-03-S-05: F09             & + +                                    & 2016                                   & RMT                                    & ATP-S                                  & Advanced Testing Program - Sclerotinia & SB                                     &    0.8611                             \\\\\n",
       "\t Bailey                                 & NC 12C*2 / N96076L                     & BC1F1-06-01-S-03-S-05: F09             & + +                                    & 2015                                   & LEW                                    & ATP-L                                  & Advanced Testing Program - Leafspot    & Yield\\_UT                             & 3373.0000                             \\\\\n",
       "\t Bailey                                 & NC 12C*2 / N96076L                     & BC1F1-06-01-S-03-S-05: F09             & + +                                    & 2014                                   & LEW                                    & ATP-L                                  & Advanced Testing Program - Leafspot    & Yield\\_UT                             & 2685.0000                             \\\\\n",
       "\\end{tabular}\n"
      ],
      "text/markdown": [
       "\n",
       "| NC_Accession | Parentage | Pedigree | FAG | Year | Location | Name | Label | Rating | Disease |\n",
       "|---|---|---|---|---|---|---|---|---|---|\n",
       "| Bailey                                 | NC 12C*2 / N96076L                     | BC1F1-06-01-S-03-S-05: F09             | + +                                    | 2010                                   | LEW                                    | ATP-T                                  | Advanced Testing Program - TSWV        | TSWV                                   |    0.3138                              |\n",
       "| Bailey                                 | NC 12C*2 / N96076L                     | BC1F1-06-01-S-03-S-05: F09             | + +                                    | 2016                                   | RMT                                    | ATP-S                                  | Advanced Testing Program - Sclerotinia | SB                                     |    0.4619                              |\n",
       "| Bailey                                 | NC 12C*2 / N96076L                     | BC1F1-06-01-S-03-S-05: F09             | + +                                    | 2010                                   | LEW                                    | ATP-L                                  | Advanced Testing Program - Leafspot    | Yield_UT                               | 5112.0000                              |\n",
       "| Bailey                                 | NC 12C*2 / N96076L                     | BC1F1-06-01-S-03-S-05: F09             | + +                                    | 2016                                   | RMT                                    | ATP-S                                  | Advanced Testing Program - Sclerotinia | SB                                     |    0.8611                              |\n",
       "| Bailey                                 | NC 12C*2 / N96076L                     | BC1F1-06-01-S-03-S-05: F09             | + +                                    | 2015                                   | LEW                                    | ATP-L                                  | Advanced Testing Program - Leafspot    | Yield_UT                               | 3373.0000                              |\n",
       "| Bailey                                 | NC 12C*2 / N96076L                     | BC1F1-06-01-S-03-S-05: F09             | + +                                    | 2014                                   | LEW                                    | ATP-L                                  | Advanced Testing Program - Leafspot    | Yield_UT                               | 2685.0000                              |\n",
       "\n"
      ],
      "text/plain": [
       "  NC_Accession Parentage          Pedigree                   FAG Year Location\n",
       "1 Bailey       NC 12C*2 / N96076L BC1F1-06-01-S-03-S-05: F09 + + 2010 LEW     \n",
       "2 Bailey       NC 12C*2 / N96076L BC1F1-06-01-S-03-S-05: F09 + + 2016 RMT     \n",
       "3 Bailey       NC 12C*2 / N96076L BC1F1-06-01-S-03-S-05: F09 + + 2010 LEW     \n",
       "4 Bailey       NC 12C*2 / N96076L BC1F1-06-01-S-03-S-05: F09 + + 2016 RMT     \n",
       "5 Bailey       NC 12C*2 / N96076L BC1F1-06-01-S-03-S-05: F09 + + 2015 LEW     \n",
       "6 Bailey       NC 12C*2 / N96076L BC1F1-06-01-S-03-S-05: F09 + + 2014 LEW     \n",
       "  Name  Label                                  Rating   Disease  \n",
       "1 ATP-T Advanced Testing Program - TSWV        TSWV        0.3138\n",
       "2 ATP-S Advanced Testing Program - Sclerotinia SB          0.4619\n",
       "3 ATP-L Advanced Testing Program - Leafspot    Yield_UT 5112.0000\n",
       "4 ATP-S Advanced Testing Program - Sclerotinia SB          0.8611\n",
       "5 ATP-L Advanced Testing Program - Leafspot    Yield_UT 3373.0000\n",
       "6 ATP-L Advanced Testing Program - Leafspot    Yield_UT 2685.0000"
      ]
     },
     "metadata": {},
     "output_type": "display_data"
    }
   ],
   "source": [
    "head(disease_data)"
   ]
  },
  {
   "cell_type": "code",
   "execution_count": 12,
   "metadata": {},
   "outputs": [],
   "source": [
    "leaf.spot <- disease_data[disease_data$Rating == 'LS',]"
   ]
  },
  {
   "cell_type": "code",
   "execution_count": 13,
   "metadata": {},
   "outputs": [],
   "source": [
    "leaf.spot <- subset(disease_data, Rating == 'LS')"
   ]
  },
  {
   "cell_type": "code",
   "execution_count": 14,
   "metadata": {},
   "outputs": [
    {
     "data": {
      "text/html": [
       "<table>\n",
       "<thead><tr><th></th><th scope=col>NC_Accession</th><th scope=col>Parentage</th><th scope=col>Pedigree</th><th scope=col>FAG</th><th scope=col>Year</th><th scope=col>Location</th><th scope=col>Name</th><th scope=col>Label</th><th scope=col>Rating</th><th scope=col>Disease</th></tr></thead>\n",
       "<tbody>\n",
       "\t<tr><th scope=row>10</th><td>Bailey                             </td><td>NC 12C*2 / N96076L                 </td><td>BC1F1-06-01-S-03-S-05: F09         </td><td>+ +                                </td><td>2010                               </td><td>LEW                                </td><td>ATP-L                              </td><td>Advanced Testing Program - Leafspot</td><td>LS                                 </td><td>2.50                               </td></tr>\n",
       "\t<tr><th scope=row>14</th><td>Bailey                             </td><td>NC 12C*2 / N96076L                 </td><td>BC1F1-06-01-S-03-S-05: F09         </td><td>+ +                                </td><td>2017                               </td><td>LEW                                </td><td>ATP-L                              </td><td>Advanced Testing Program - Leafspot</td><td>LS                                 </td><td>8.00                               </td></tr>\n",
       "\t<tr><th scope=row>20</th><td>Bailey                             </td><td>NC 12C*2 / N96076L                 </td><td>BC1F1-06-01-S-03-S-05: F09         </td><td>+ +                                </td><td>2016                               </td><td>LEW                                </td><td>ATP-L                              </td><td>Advanced Testing Program - Leafspot</td><td>LS                                 </td><td>4.00                               </td></tr>\n",
       "\t<tr><th scope=row>30</th><td>Bailey                             </td><td>NC 12C*2 / N96076L                 </td><td>BC1F1-06-01-S-03-S-05: F09         </td><td>+ +                                </td><td>2010                               </td><td>LEW                                </td><td>ATP-L                              </td><td>Advanced Testing Program - Leafspot</td><td>LS                                 </td><td>2.55                               </td></tr>\n",
       "\t<tr><th scope=row>33</th><td>Bailey                             </td><td>NC 12C*2 / N96076L                 </td><td>BC1F1-06-01-S-03-S-05: F09         </td><td>+ +                                </td><td>2016                               </td><td>LEW                                </td><td>ATP-L                              </td><td>Advanced Testing Program - Leafspot</td><td>LS                                 </td><td>6.00                               </td></tr>\n",
       "\t<tr><th scope=row>34</th><td>Bailey                             </td><td>NC 12C*2 / N96076L                 </td><td>BC1F1-06-01-S-03-S-05: F09         </td><td>+ +                                </td><td>2011                               </td><td>LEW                                </td><td>ATP-L                              </td><td>Advanced Testing Program - Leafspot</td><td>LS                                 </td><td>7.17                               </td></tr>\n",
       "</tbody>\n",
       "</table>\n"
      ],
      "text/latex": [
       "\\begin{tabular}{r|llllllllll}\n",
       "  & NC\\_Accession & Parentage & Pedigree & FAG & Year & Location & Name & Label & Rating & Disease\\\\\n",
       "\\hline\n",
       "\t10 & Bailey                              & NC 12C*2 / N96076L                  & BC1F1-06-01-S-03-S-05: F09          & + +                                 & 2010                                & LEW                                 & ATP-L                               & Advanced Testing Program - Leafspot & LS                                  & 2.50                               \\\\\n",
       "\t14 & Bailey                              & NC 12C*2 / N96076L                  & BC1F1-06-01-S-03-S-05: F09          & + +                                 & 2017                                & LEW                                 & ATP-L                               & Advanced Testing Program - Leafspot & LS                                  & 8.00                               \\\\\n",
       "\t20 & Bailey                              & NC 12C*2 / N96076L                  & BC1F1-06-01-S-03-S-05: F09          & + +                                 & 2016                                & LEW                                 & ATP-L                               & Advanced Testing Program - Leafspot & LS                                  & 4.00                               \\\\\n",
       "\t30 & Bailey                              & NC 12C*2 / N96076L                  & BC1F1-06-01-S-03-S-05: F09          & + +                                 & 2010                                & LEW                                 & ATP-L                               & Advanced Testing Program - Leafspot & LS                                  & 2.55                               \\\\\n",
       "\t33 & Bailey                              & NC 12C*2 / N96076L                  & BC1F1-06-01-S-03-S-05: F09          & + +                                 & 2016                                & LEW                                 & ATP-L                               & Advanced Testing Program - Leafspot & LS                                  & 6.00                               \\\\\n",
       "\t34 & Bailey                              & NC 12C*2 / N96076L                  & BC1F1-06-01-S-03-S-05: F09          & + +                                 & 2011                                & LEW                                 & ATP-L                               & Advanced Testing Program - Leafspot & LS                                  & 7.17                               \\\\\n",
       "\\end{tabular}\n"
      ],
      "text/markdown": [
       "\n",
       "| <!--/--> | NC_Accession | Parentage | Pedigree | FAG | Year | Location | Name | Label | Rating | Disease |\n",
       "|---|---|---|---|---|---|---|---|---|---|---|\n",
       "| 10 | Bailey                              | NC 12C*2 / N96076L                  | BC1F1-06-01-S-03-S-05: F09          | + +                                 | 2010                                | LEW                                 | ATP-L                               | Advanced Testing Program - Leafspot | LS                                  | 2.50                                |\n",
       "| 14 | Bailey                              | NC 12C*2 / N96076L                  | BC1F1-06-01-S-03-S-05: F09          | + +                                 | 2017                                | LEW                                 | ATP-L                               | Advanced Testing Program - Leafspot | LS                                  | 8.00                                |\n",
       "| 20 | Bailey                              | NC 12C*2 / N96076L                  | BC1F1-06-01-S-03-S-05: F09          | + +                                 | 2016                                | LEW                                 | ATP-L                               | Advanced Testing Program - Leafspot | LS                                  | 4.00                                |\n",
       "| 30 | Bailey                              | NC 12C*2 / N96076L                  | BC1F1-06-01-S-03-S-05: F09          | + +                                 | 2010                                | LEW                                 | ATP-L                               | Advanced Testing Program - Leafspot | LS                                  | 2.55                                |\n",
       "| 33 | Bailey                              | NC 12C*2 / N96076L                  | BC1F1-06-01-S-03-S-05: F09          | + +                                 | 2016                                | LEW                                 | ATP-L                               | Advanced Testing Program - Leafspot | LS                                  | 6.00                                |\n",
       "| 34 | Bailey                              | NC 12C*2 / N96076L                  | BC1F1-06-01-S-03-S-05: F09          | + +                                 | 2011                                | LEW                                 | ATP-L                               | Advanced Testing Program - Leafspot | LS                                  | 7.17                                |\n",
       "\n"
      ],
      "text/plain": [
       "   NC_Accession Parentage          Pedigree                   FAG Year Location\n",
       "10 Bailey       NC 12C*2 / N96076L BC1F1-06-01-S-03-S-05: F09 + + 2010 LEW     \n",
       "14 Bailey       NC 12C*2 / N96076L BC1F1-06-01-S-03-S-05: F09 + + 2017 LEW     \n",
       "20 Bailey       NC 12C*2 / N96076L BC1F1-06-01-S-03-S-05: F09 + + 2016 LEW     \n",
       "30 Bailey       NC 12C*2 / N96076L BC1F1-06-01-S-03-S-05: F09 + + 2010 LEW     \n",
       "33 Bailey       NC 12C*2 / N96076L BC1F1-06-01-S-03-S-05: F09 + + 2016 LEW     \n",
       "34 Bailey       NC 12C*2 / N96076L BC1F1-06-01-S-03-S-05: F09 + + 2011 LEW     \n",
       "   Name  Label                               Rating Disease\n",
       "10 ATP-L Advanced Testing Program - Leafspot LS     2.50   \n",
       "14 ATP-L Advanced Testing Program - Leafspot LS     8.00   \n",
       "20 ATP-L Advanced Testing Program - Leafspot LS     4.00   \n",
       "30 ATP-L Advanced Testing Program - Leafspot LS     2.55   \n",
       "33 ATP-L Advanced Testing Program - Leafspot LS     6.00   \n",
       "34 ATP-L Advanced Testing Program - Leafspot LS     7.17   "
      ]
     },
     "metadata": {},
     "output_type": "display_data"
    }
   ],
   "source": [
    "head(leaf.spot)"
   ]
  },
  {
   "cell_type": "code",
   "execution_count": 15,
   "metadata": {},
   "outputs": [],
   "source": [
    "leaf.spot <- leaf.spot[!is.na(leaf.spot$Disease),]"
   ]
  },
  {
   "cell_type": "code",
   "execution_count": 16,
   "metadata": {},
   "outputs": [
    {
     "data": {
      "text/html": [
       "7.39630630630631"
      ],
      "text/latex": [
       "7.39630630630631"
      ],
      "text/markdown": [
       "7.39630630630631"
      ],
      "text/plain": [
       "[1] 7.396306"
      ]
     },
     "metadata": {},
     "output_type": "display_data"
    }
   ],
   "source": [
    "mean(leaf.spot$Disease[leaf.spot$Year == 2017], na.rm = TRUE)"
   ]
  },
  {
   "cell_type": "code",
   "execution_count": 17,
   "metadata": {},
   "outputs": [
    {
     "data": {
      "text/html": [
       "7.39630630630631"
      ],
      "text/latex": [
       "7.39630630630631"
      ],
      "text/markdown": [
       "7.39630630630631"
      ],
      "text/plain": [
       "[1] 7.396306"
      ]
     },
     "metadata": {},
     "output_type": "display_data"
    }
   ],
   "source": [
    "mean(subset(leaf.spot, Year == 2017)$Disease, na.rm = TRUE)"
   ]
  },
  {
   "cell_type": "code",
   "execution_count": 18,
   "metadata": {},
   "outputs": [],
   "source": [
    "line_names = c('Bailey', 'Bailey II', 'Wynne', 'Sullivan', 'Emery', 'N96076L')\n",
    "leaf.spot <- leaf.spot[leaf.spot$NC_Accession %in% line_names,]"
   ]
  },
  {
   "cell_type": "code",
   "execution_count": 19,
   "metadata": {},
   "outputs": [
    {
     "data": {
      "text/html": [
       "<table>\n",
       "<thead><tr><th></th><th scope=col>NC_Accession</th><th scope=col>Parentage</th><th scope=col>Pedigree</th><th scope=col>FAG</th><th scope=col>Year</th><th scope=col>Location</th><th scope=col>Name</th><th scope=col>Label</th><th scope=col>Rating</th><th scope=col>Disease</th></tr></thead>\n",
       "<tbody>\n",
       "\t<tr><th scope=row>10</th><td>Bailey                                                                   </td><td>NC 12C*2 / N96076L                                                       </td><td>BC1F1-06-01-S-03-S-05: F09                                               </td><td>+ +                                                                      </td><td>2010                                                                     </td><td>LEW                                                                      </td><td>ATP-L                                                                    </td><td>Advanced Testing Program - Leafspot                                      </td><td>LS                                                                       </td><td>2.50                                                                     </td></tr>\n",
       "\t<tr><th scope=row>14</th><td>Bailey                                                                   </td><td>NC 12C*2 / N96076L                                                       </td><td>BC1F1-06-01-S-03-S-05: F09                                               </td><td>+ +                                                                      </td><td>2017                                                                     </td><td>LEW                                                                      </td><td>ATP-L                                                                    </td><td>Advanced Testing Program - Leafspot                                      </td><td>LS                                                                       </td><td>8.00                                                                     </td></tr>\n",
       "\t<tr><th scope=row>20</th><td>Bailey                                                                   </td><td>NC 12C*2 / N96076L                                                       </td><td>BC1F1-06-01-S-03-S-05: F09                                               </td><td>+ +                                                                      </td><td>2016                                                                     </td><td>LEW                                                                      </td><td>ATP-L                                                                    </td><td>Advanced Testing Program - Leafspot                                      </td><td>LS                                                                       </td><td>4.00                                                                     </td></tr>\n",
       "\t<tr><th scope=row>30</th><td>Bailey                                                                   </td><td>NC 12C*2 / N96076L                                                       </td><td>BC1F1-06-01-S-03-S-05: F09                                               </td><td>+ +                                                                      </td><td>2010                                                                     </td><td>LEW                                                                      </td><td>ATP-L                                                                    </td><td>Advanced Testing Program - Leafspot                                      </td><td>LS                                                                       </td><td>2.55                                                                     </td></tr>\n",
       "\t<tr><th scope=row>33</th><td>Bailey                                                                   </td><td>NC 12C*2 / N96076L                                                       </td><td>BC1F1-06-01-S-03-S-05: F09                                               </td><td>+ +                                                                      </td><td>2016                                                                     </td><td>LEW                                                                      </td><td>ATP-L                                                                    </td><td>Advanced Testing Program - Leafspot                                      </td><td>LS                                                                       </td><td>6.00                                                                     </td></tr>\n",
       "\t<tr><th scope=row>34</th><td>Bailey                                                                   </td><td>NC 12C*2 / N96076L                                                       </td><td>BC1F1-06-01-S-03-S-05: F09                                               </td><td>+ +                                                                      </td><td>2011                                                                     </td><td>LEW                                                                      </td><td>ATP-L                                                                    </td><td>Advanced Testing Program - Leafspot                                      </td><td>LS                                                                       </td><td>7.17                                                                     </td></tr>\n",
       "\t<tr><th scope=row>38</th><td>Bailey                                                                   </td><td>NC 12C*2 / N96076L                                                       </td><td>BC1F1-06-01-S-03-S-05: F09                                               </td><td>+ +                                                                      </td><td>2015                                                                     </td><td>LEW                                                                      </td><td>ATP-L                                                                    </td><td>Advanced Testing Program - Leafspot                                      </td><td>LS                                                                       </td><td>5.79                                                                     </td></tr>\n",
       "\t<tr><th scope=row>39</th><td>Bailey                                                                   </td><td>NC 12C*2 / N96076L                                                       </td><td>BC1F1-06-01-S-03-S-05: F09                                               </td><td>+ +                                                                      </td><td>2015                                                                     </td><td>LEW                                                                      </td><td>ATP-L                                                                    </td><td>Advanced Testing Program - Leafspot                                      </td><td>LS                                                                       </td><td>4.71                                                                     </td></tr>\n",
       "\t<tr><th scope=row>42</th><td>Bailey                                                                   </td><td>NC 12C*2 / N96076L                                                       </td><td>BC1F1-06-01-S-03-S-05: F09                                               </td><td>+ +                                                                      </td><td>2014                                                                     </td><td>LEW                                                                      </td><td>ATP-L                                                                    </td><td>Advanced Testing Program - Leafspot                                      </td><td>LS                                                                       </td><td>7.01                                                                     </td></tr>\n",
       "\t<tr><th scope=row>45</th><td>Bailey                                                                   </td><td>NC 12C*2 / N96076L                                                       </td><td>BC1F1-06-01-S-03-S-05: F09                                               </td><td>+ +                                                                      </td><td>2011                                                                     </td><td>LEW                                                                      </td><td>ATP-L                                                                    </td><td>Advanced Testing Program - Leafspot                                      </td><td>LS                                                                       </td><td>7.19                                                                     </td></tr>\n",
       "\t<tr><th scope=row>48</th><td>Bailey                                                                   </td><td>NC 12C*2 / N96076L                                                       </td><td>BC1F1-06-01-S-03-S-05: F09                                               </td><td>+ +                                                                      </td><td>2013                                                                     </td><td>LEW                                                                      </td><td>ATP-L                                                                    </td><td>Advanced Testing Program - Leafspot                                      </td><td>LS                                                                       </td><td>3.00                                                                     </td></tr>\n",
       "\t<tr><th scope=row>53</th><td>Bailey                                                                   </td><td>NC 12C*2 / N96076L                                                       </td><td>BC1F1-06-01-S-03-S-05: F09                                               </td><td>+ +                                                                      </td><td>2014                                                                     </td><td>LEW                                                                      </td><td>ATP-L                                                                    </td><td>Advanced Testing Program - Leafspot                                      </td><td>LS                                                                       </td><td>6.50                                                                     </td></tr>\n",
       "\t<tr><th scope=row>54</th><td>Bailey                                                                   </td><td>NC 12C*2 / N96076L                                                       </td><td>BC1F1-06-01-S-03-S-05: F09                                               </td><td>+ +                                                                      </td><td>2012                                                                     </td><td>LEW                                                                      </td><td>ATP-L                                                                    </td><td>Advanced Testing Program - Leafspot                                      </td><td>LS                                                                       </td><td>2.00                                                                     </td></tr>\n",
       "\t<tr><th scope=row>59</th><td>Bailey                                                                   </td><td>NC 12C*2 / N96076L                                                       </td><td>BC1F1-06-01-S-03-S-05: F09                                               </td><td>+ +                                                                      </td><td>2012                                                                     </td><td>LEW                                                                      </td><td>ATP-L                                                                    </td><td>Advanced Testing Program - Leafspot                                      </td><td>LS                                                                       </td><td>2.00                                                                     </td></tr>\n",
       "\t<tr><th scope=row>61</th><td>Bailey                                                                   </td><td>NC 12C*2 / N96076L                                                       </td><td>BC1F1-06-01-S-03-S-05: F09                                               </td><td>+ +                                                                      </td><td>2013                                                                     </td><td>LEW                                                                      </td><td>ATP-L                                                                    </td><td>Advanced Testing Program - Leafspot                                      </td><td>LS                                                                       </td><td>4.00                                                                     </td></tr>\n",
       "\t<tr><th scope=row>63</th><td>Bailey II                                                                </td><td>Bailey /4/ X07016, Bailey // X05027, Bailey / N02060ol, X05249 /3/ Bailey</td><td>BC3F1-02-01-S-02-S-02: F09                                               </td><td>ol ol                                                                    </td><td>2012                                                                     </td><td>LEW                                                                      </td><td>ATP-L                                                                    </td><td>Advanced Testing Program - Leafspot                                      </td><td>LS                                                                       </td><td>2.00                                                                     </td></tr>\n",
       "\t<tr><th scope=row>65</th><td>Bailey II                                                                </td><td>Bailey /4/ X07016, Bailey // X05027, Bailey / N02060ol, X05249 /3/ Bailey</td><td>BC3F1-02-01-S-02-S-02: F09                                               </td><td>ol ol                                                                    </td><td>2013                                                                     </td><td>LEW                                                                      </td><td>ATP-L                                                                    </td><td>Advanced Testing Program - Leafspot                                      </td><td>LS                                                                       </td><td>3.50                                                                     </td></tr>\n",
       "\t<tr><th scope=row>68</th><td>Bailey II                                                                </td><td>Bailey /4/ X07016, Bailey // X05027, Bailey / N02060ol, X05249 /3/ Bailey</td><td>BC3F1-02-01-S-02-S-02: F09                                               </td><td>ol ol                                                                    </td><td>2018                                                                     </td><td>LEW                                                                      </td><td>ATP-L                                                                    </td><td>Advanced Testing Program - Leafspot                                      </td><td>LS                                                                       </td><td>4.50                                                                     </td></tr>\n",
       "\t<tr><th scope=row>69</th><td>Bailey II                                                                </td><td>Bailey /4/ X07016, Bailey // X05027, Bailey / N02060ol, X05249 /3/ Bailey</td><td>BC3F1-02-01-S-02-S-02: F09                                               </td><td>ol ol                                                                    </td><td>2015                                                                     </td><td>LEW                                                                      </td><td>ATP-L                                                                    </td><td>Advanced Testing Program - Leafspot                                      </td><td>LS                                                                       </td><td>5.46                                                                     </td></tr>\n",
       "\t<tr><th scope=row>70</th><td>Bailey II                                                                </td><td>Bailey /4/ X07016, Bailey // X05027, Bailey / N02060ol, X05249 /3/ Bailey</td><td>BC3F1-02-01-S-02-S-02: F09                                               </td><td>ol ol                                                                    </td><td>2014                                                                     </td><td>LEW                                                                      </td><td>ATP-L                                                                    </td><td>Advanced Testing Program - Leafspot                                      </td><td>LS                                                                       </td><td>6.00                                                                     </td></tr>\n",
       "\t<tr><th scope=row>71</th><td>Bailey II                                                                </td><td>Bailey /4/ X07016, Bailey // X05027, Bailey / N02060ol, X05249 /3/ Bailey</td><td>BC3F1-02-01-S-02-S-02: F09                                               </td><td>ol ol                                                                    </td><td>2016                                                                     </td><td>LEW                                                                      </td><td>ATP-L                                                                    </td><td>Advanced Testing Program - Leafspot                                      </td><td>LS                                                                       </td><td>5.00                                                                     </td></tr>\n",
       "\t<tr><th scope=row>73</th><td>Bailey II                                                                </td><td>Bailey /4/ X07016, Bailey // X05027, Bailey / N02060ol, X05249 /3/ Bailey</td><td>BC3F1-02-01-S-02-S-02: F09                                               </td><td>ol ol                                                                    </td><td>2017                                                                     </td><td>LEW                                                                      </td><td>ATP-L                                                                    </td><td>Advanced Testing Program - Leafspot                                      </td><td>LS                                                                       </td><td>7.77                                                                     </td></tr>\n",
       "\t<tr><th scope=row>79</th><td>Bailey II                                                                </td><td>Bailey /4/ X07016, Bailey // X05027, Bailey / N02060ol, X05249 /3/ Bailey</td><td>BC3F1-02-01-S-02-S-02: F09                                               </td><td>ol ol                                                                    </td><td>2018                                                                     </td><td>LEW                                                                      </td><td>ATP-L                                                                    </td><td>Advanced Testing Program - Leafspot                                      </td><td>LS                                                                       </td><td>5.62                                                                     </td></tr>\n",
       "\t<tr><th scope=row>126</th><td>Emery                                                                    </td><td>N03079FT*2 / Brantley                                                    </td><td>BC1F1-03-01-01-02-02-01: F08                                             </td><td>ol ol                                                                    </td><td>2018                                                                     </td><td>LEW                                                                      </td><td>ATP-L                                                                    </td><td>Advanced Testing Program - Leafspot                                      </td><td>LS                                                                       </td><td>6.28                                                                     </td></tr>\n",
       "\t<tr><th scope=row>128</th><td>Emery                                                                    </td><td>N03079FT*2 / Brantley                                                    </td><td>BC1F1-03-01-01-02-02-01: F08                                             </td><td>ol ol                                                                    </td><td>2018                                                                     </td><td>LEW                                                                      </td><td>ATP-L                                                                    </td><td>Advanced Testing Program - Leafspot                                      </td><td>LS                                                                       </td><td>6.00                                                                     </td></tr>\n",
       "\t<tr><th scope=row>147</th><td>Emery                                                                    </td><td>N03079FT*2 / Brantley                                                    </td><td>BC1F1-03-01-01-02-02-01: F08                                             </td><td>ol ol                                                                    </td><td>2011                                                                     </td><td>LEW                                                                      </td><td>ATP-L                                                                    </td><td>Advanced Testing Program - Leafspot                                      </td><td>LS                                                                       </td><td>7.72                                                                     </td></tr>\n",
       "\t<tr><th scope=row>150</th><td>Emery                                                                    </td><td>N03079FT*2 / Brantley                                                    </td><td>BC1F1-03-01-01-02-02-01: F08                                             </td><td>ol ol                                                                    </td><td>2012                                                                     </td><td>LEW                                                                      </td><td>ATP-L                                                                    </td><td>Advanced Testing Program - Leafspot                                      </td><td>LS                                                                       </td><td>2.00                                                                     </td></tr>\n",
       "\t<tr><th scope=row>151</th><td>Emery                                                                    </td><td>N03079FT*2 / Brantley                                                    </td><td>BC1F1-03-01-01-02-02-01: F08                                             </td><td>ol ol                                                                    </td><td>2017                                                                     </td><td>LEW                                                                      </td><td>ATP-L                                                                    </td><td>Advanced Testing Program - Leafspot                                      </td><td>LS                                                                       </td><td>8.00                                                                     </td></tr>\n",
       "\t<tr><th scope=row>156</th><td>Emery                                                                    </td><td>N03079FT*2 / Brantley                                                    </td><td>BC1F1-03-01-01-02-02-01: F08                                             </td><td>ol ol                                                                    </td><td>2017                                                                     </td><td>LEW                                                                      </td><td>ATP-L                                                                    </td><td>Advanced Testing Program - Leafspot                                      </td><td>LS                                                                       </td><td>8.11                                                                     </td></tr>\n",
       "\t<tr><th scope=row>157</th><td>Emery                                                                    </td><td>N03079FT*2 / Brantley                                                    </td><td>BC1F1-03-01-01-02-02-01: F08                                             </td><td>ol ol                                                                    </td><td>2014                                                                     </td><td>LEW                                                                      </td><td>ATP-L                                                                    </td><td>Advanced Testing Program - Leafspot                                      </td><td>LS                                                                       </td><td>6.50                                                                     </td></tr>\n",
       "\t<tr><th scope=row>...</th><td>...</td><td>...</td><td>...</td><td>...</td><td>...</td><td>...</td><td>...</td><td>...</td><td>...</td><td>...</td></tr>\n",
       "\t<tr><th scope=row>2594</th><td>Sullivan                           </td><td>N03079FT*2 / N02059ol              </td><td>BC1F1-04-02-S-04-S-03: F09         </td><td>ol ol                              </td><td>2011                               </td><td>LEW                                </td><td>ATP-L                              </td><td>Advanced Testing Program - Leafspot</td><td>LS                                 </td><td>6.31                               </td></tr>\n",
       "\t<tr><th scope=row>2595</th><td>Sullivan                           </td><td>N03079FT*2 / N02059ol              </td><td>BC1F1-04-02-S-04-S-03: F09         </td><td>ol ol                              </td><td>2012                               </td><td>LEW                                </td><td>ATP-L                              </td><td>Advanced Testing Program - Leafspot</td><td>LS                                 </td><td>2.00                               </td></tr>\n",
       "\t<tr><th scope=row>2596</th><td>Sullivan                           </td><td>N03079FT*2 / N02059ol              </td><td>BC1F1-04-02-S-04-S-03: F09         </td><td>ol ol                              </td><td>2013                               </td><td>LEW                                </td><td>ATP-L                              </td><td>Advanced Testing Program - Leafspot</td><td>LS                                 </td><td>3.00                               </td></tr>\n",
       "\t<tr><th scope=row>2597</th><td>Sullivan                           </td><td>N03079FT*2 / N02059ol              </td><td>BC1F1-04-02-S-04-S-03: F09         </td><td>ol ol                              </td><td>2014                               </td><td>LEW                                </td><td>ATP-L                              </td><td>Advanced Testing Program - Leafspot</td><td>LS                                 </td><td>6.74                               </td></tr>\n",
       "\t<tr><th scope=row>2598</th><td>Sullivan                           </td><td>N03079FT*2 / N02059ol              </td><td>BC1F1-04-02-S-04-S-03: F09         </td><td>ol ol                              </td><td>2014                               </td><td>LEW                                </td><td>ATP-L                              </td><td>Advanced Testing Program - Leafspot</td><td>LS                                 </td><td>6.00                               </td></tr>\n",
       "\t<tr><th scope=row>2599</th><td>Sullivan                           </td><td>N03079FT*2 / N02059ol              </td><td>BC1F1-04-02-S-04-S-03: F09         </td><td>ol ol                              </td><td>2015                               </td><td>LEW                                </td><td>ATP-L                              </td><td>Advanced Testing Program - Leafspot</td><td>LS                                 </td><td>5.32                               </td></tr>\n",
       "\t<tr><th scope=row>2600</th><td>Sullivan                           </td><td>N03079FT*2 / N02059ol              </td><td>BC1F1-04-02-S-04-S-03: F09         </td><td>ol ol                              </td><td>2015                               </td><td>LEW                                </td><td>ATP-L                              </td><td>Advanced Testing Program - Leafspot</td><td>LS                                 </td><td>4.70                               </td></tr>\n",
       "\t<tr><th scope=row>2601</th><td>Sullivan                           </td><td>N03079FT*2 / N02059ol              </td><td>BC1F1-04-02-S-04-S-03: F09         </td><td>ol ol                              </td><td>2016                               </td><td>LEW                                </td><td>ATP-L                              </td><td>Advanced Testing Program - Leafspot</td><td>LS                                 </td><td>4.00                               </td></tr>\n",
       "\t<tr><th scope=row>2602</th><td>Sullivan                           </td><td>N03079FT*2 / N02059ol              </td><td>BC1F1-04-02-S-04-S-03: F09         </td><td>ol ol                              </td><td>2016                               </td><td>LEW                                </td><td>ATP-L                              </td><td>Advanced Testing Program - Leafspot</td><td>LS                                 </td><td>5.00                               </td></tr>\n",
       "\t<tr><th scope=row>2603</th><td>Sullivan                           </td><td>N03079FT*2 / N02059ol              </td><td>BC1F1-04-02-S-04-S-03: F09         </td><td>ol ol                              </td><td>2017                               </td><td>LEW                                </td><td>ATP-L                              </td><td>Advanced Testing Program - Leafspot</td><td>LS                                 </td><td>8.00                               </td></tr>\n",
       "\t<tr><th scope=row>2604</th><td>Sullivan                           </td><td>N03079FT*2 / N02059ol              </td><td>BC1F1-04-02-S-04-S-03: F09         </td><td>ol ol                              </td><td>2018                               </td><td>LEW                                </td><td>ATP-L                              </td><td>Advanced Testing Program - Leafspot</td><td>LS                                 </td><td>5.00                               </td></tr>\n",
       "\t<tr><th scope=row>2605</th><td>Sullivan                           </td><td>N03079FT*2 / N02059ol              </td><td>BC1F1-04-02-S-04-S-03: F09         </td><td>ol ol                              </td><td>2010                               </td><td>LEW                                </td><td>ATP-L                              </td><td>Advanced Testing Program - Leafspot</td><td>LS                                 </td><td>2.00                               </td></tr>\n",
       "\t<tr><th scope=row>2606</th><td>Sullivan                           </td><td>N03079FT*2 / N02059ol              </td><td>BC1F1-04-02-S-04-S-03: F09         </td><td>ol ol                              </td><td>2011                               </td><td>LEW                                </td><td>ATP-L                              </td><td>Advanced Testing Program - Leafspot</td><td>LS                                 </td><td>6.06                               </td></tr>\n",
       "\t<tr><th scope=row>2616</th><td>Sullivan                           </td><td>N03079FT*2 / N02059ol              </td><td>BC1F1-04-02-S-04-S-03: F09         </td><td>ol ol                              </td><td>2017                               </td><td>LEW                                </td><td>ATP-L                              </td><td>Advanced Testing Program - Leafspot</td><td>LS                                 </td><td>7.38                               </td></tr>\n",
       "\t<tr><th scope=row>2660</th><td>Wynne                              </td><td>Bailey*2 / Brantley                </td><td>BC1F1-04-01-S-02-S-02: F09         </td><td>ol ol                              </td><td>2010                               </td><td>LEW                                </td><td>ATP-L                              </td><td>Advanced Testing Program - Leafspot</td><td>LS                                 </td><td>2.94                               </td></tr>\n",
       "\t<tr><th scope=row>2661</th><td>Wynne                              </td><td>Bailey*2 / Brantley                </td><td>BC1F1-04-01-S-02-S-02: F09         </td><td>ol ol                              </td><td>2011                               </td><td>LEW                                </td><td>ATP-L                              </td><td>Advanced Testing Program - Leafspot</td><td>LS                                 </td><td>7.17                               </td></tr>\n",
       "\t<tr><th scope=row>2662</th><td>Wynne                              </td><td>Bailey*2 / Brantley                </td><td>BC1F1-04-01-S-02-S-02: F09         </td><td>ol ol                              </td><td>2011                               </td><td>LEW                                </td><td>ATP-L                              </td><td>Advanced Testing Program - Leafspot</td><td>LS                                 </td><td>7.31                               </td></tr>\n",
       "\t<tr><th scope=row>2663</th><td>Wynne                              </td><td>Bailey*2 / Brantley                </td><td>BC1F1-04-01-S-02-S-02: F09         </td><td>ol ol                              </td><td>2012                               </td><td>LEW                                </td><td>ATP-L                              </td><td>Advanced Testing Program - Leafspot</td><td>LS                                 </td><td>2.00                               </td></tr>\n",
       "\t<tr><th scope=row>2664</th><td>Wynne                              </td><td>Bailey*2 / Brantley                </td><td>BC1F1-04-01-S-02-S-02: F09         </td><td>ol ol                              </td><td>2013                               </td><td>LEW                                </td><td>ATP-L                              </td><td>Advanced Testing Program - Leafspot</td><td>LS                                 </td><td>3.00                               </td></tr>\n",
       "\t<tr><th scope=row>2665</th><td>Wynne                              </td><td>Bailey*2 / Brantley                </td><td>BC1F1-04-01-S-02-S-02: F09         </td><td>ol ol                              </td><td>2013                               </td><td>LEW                                </td><td>ATP-L                              </td><td>Advanced Testing Program - Leafspot</td><td>LS                                 </td><td>3.50                               </td></tr>\n",
       "\t<tr><th scope=row>2666</th><td>Wynne                              </td><td>Bailey*2 / Brantley                </td><td>BC1F1-04-01-S-02-S-02: F09         </td><td>ol ol                              </td><td>2014                               </td><td>LEW                                </td><td>ATP-L                              </td><td>Advanced Testing Program - Leafspot</td><td>LS                                 </td><td>6.97                               </td></tr>\n",
       "\t<tr><th scope=row>2667</th><td>Wynne                              </td><td>Bailey*2 / Brantley                </td><td>BC1F1-04-01-S-02-S-02: F09         </td><td>ol ol                              </td><td>2014                               </td><td>LEW                                </td><td>ATP-L                              </td><td>Advanced Testing Program - Leafspot</td><td>LS                                 </td><td>6.00                               </td></tr>\n",
       "\t<tr><th scope=row>2668</th><td>Wynne                              </td><td>Bailey*2 / Brantley                </td><td>BC1F1-04-01-S-02-S-02: F09         </td><td>ol ol                              </td><td>2015                               </td><td>LEW                                </td><td>ATP-L                              </td><td>Advanced Testing Program - Leafspot</td><td>LS                                 </td><td>7.14                               </td></tr>\n",
       "\t<tr><th scope=row>2669</th><td>Wynne                              </td><td>Bailey*2 / Brantley                </td><td>BC1F1-04-01-S-02-S-02: F09         </td><td>ol ol                              </td><td>2015                               </td><td>LEW                                </td><td>ATP-L                              </td><td>Advanced Testing Program - Leafspot</td><td>LS                                 </td><td>5.74                               </td></tr>\n",
       "\t<tr><th scope=row>2670</th><td>Wynne                              </td><td>Bailey*2 / Brantley                </td><td>BC1F1-04-01-S-02-S-02: F09         </td><td>ol ol                              </td><td>2016                               </td><td>LEW                                </td><td>ATP-L                              </td><td>Advanced Testing Program - Leafspot</td><td>LS                                 </td><td>4.50                               </td></tr>\n",
       "\t<tr><th scope=row>2671</th><td>Wynne                              </td><td>Bailey*2 / Brantley                </td><td>BC1F1-04-01-S-02-S-02: F09         </td><td>ol ol                              </td><td>2016                               </td><td>LEW                                </td><td>ATP-L                              </td><td>Advanced Testing Program - Leafspot</td><td>LS                                 </td><td>4.00                               </td></tr>\n",
       "\t<tr><th scope=row>2672</th><td>Wynne                              </td><td>Bailey*2 / Brantley                </td><td>BC1F1-04-01-S-02-S-02: F09         </td><td>ol ol                              </td><td>2017                               </td><td>LEW                                </td><td>ATP-L                              </td><td>Advanced Testing Program - Leafspot</td><td>LS                                 </td><td>7.80                               </td></tr>\n",
       "\t<tr><th scope=row>2673</th><td>Wynne                              </td><td>Bailey*2 / Brantley                </td><td>BC1F1-04-01-S-02-S-02: F09         </td><td>ol ol                              </td><td>2017                               </td><td>LEW                                </td><td>ATP-L                              </td><td>Advanced Testing Program - Leafspot</td><td>LS                                 </td><td>8.00                               </td></tr>\n",
       "\t<tr><th scope=row>2674</th><td>Wynne                              </td><td>Bailey*2 / Brantley                </td><td>BC1F1-04-01-S-02-S-02: F09         </td><td>ol ol                              </td><td>2018                               </td><td>LEW                                </td><td>ATP-L                              </td><td>Advanced Testing Program - Leafspot</td><td>LS                                 </td><td>6.00                               </td></tr>\n",
       "\t<tr><th scope=row>2675</th><td>Wynne                              </td><td>Bailey*2 / Brantley                </td><td>BC1F1-04-01-S-02-S-02: F09         </td><td>ol ol                              </td><td>2018                               </td><td>LEW                                </td><td>ATP-L                              </td><td>Advanced Testing Program - Leafspot</td><td>LS                                 </td><td>6.66                               </td></tr>\n",
       "</tbody>\n",
       "</table>\n"
      ],
      "text/latex": [
       "\\begin{tabular}{r|llllllllll}\n",
       "  & NC\\_Accession & Parentage & Pedigree & FAG & Year & Location & Name & Label & Rating & Disease\\\\\n",
       "\\hline\n",
       "\t10 & Bailey                                                                    & NC 12C*2 / N96076L                                                        & BC1F1-06-01-S-03-S-05: F09                                                & + +                                                                       & 2010                                                                      & LEW                                                                       & ATP-L                                                                     & Advanced Testing Program - Leafspot                                       & LS                                                                        & 2.50                                                                     \\\\\n",
       "\t14 & Bailey                                                                    & NC 12C*2 / N96076L                                                        & BC1F1-06-01-S-03-S-05: F09                                                & + +                                                                       & 2017                                                                      & LEW                                                                       & ATP-L                                                                     & Advanced Testing Program - Leafspot                                       & LS                                                                        & 8.00                                                                     \\\\\n",
       "\t20 & Bailey                                                                    & NC 12C*2 / N96076L                                                        & BC1F1-06-01-S-03-S-05: F09                                                & + +                                                                       & 2016                                                                      & LEW                                                                       & ATP-L                                                                     & Advanced Testing Program - Leafspot                                       & LS                                                                        & 4.00                                                                     \\\\\n",
       "\t30 & Bailey                                                                    & NC 12C*2 / N96076L                                                        & BC1F1-06-01-S-03-S-05: F09                                                & + +                                                                       & 2010                                                                      & LEW                                                                       & ATP-L                                                                     & Advanced Testing Program - Leafspot                                       & LS                                                                        & 2.55                                                                     \\\\\n",
       "\t33 & Bailey                                                                    & NC 12C*2 / N96076L                                                        & BC1F1-06-01-S-03-S-05: F09                                                & + +                                                                       & 2016                                                                      & LEW                                                                       & ATP-L                                                                     & Advanced Testing Program - Leafspot                                       & LS                                                                        & 6.00                                                                     \\\\\n",
       "\t34 & Bailey                                                                    & NC 12C*2 / N96076L                                                        & BC1F1-06-01-S-03-S-05: F09                                                & + +                                                                       & 2011                                                                      & LEW                                                                       & ATP-L                                                                     & Advanced Testing Program - Leafspot                                       & LS                                                                        & 7.17                                                                     \\\\\n",
       "\t38 & Bailey                                                                    & NC 12C*2 / N96076L                                                        & BC1F1-06-01-S-03-S-05: F09                                                & + +                                                                       & 2015                                                                      & LEW                                                                       & ATP-L                                                                     & Advanced Testing Program - Leafspot                                       & LS                                                                        & 5.79                                                                     \\\\\n",
       "\t39 & Bailey                                                                    & NC 12C*2 / N96076L                                                        & BC1F1-06-01-S-03-S-05: F09                                                & + +                                                                       & 2015                                                                      & LEW                                                                       & ATP-L                                                                     & Advanced Testing Program - Leafspot                                       & LS                                                                        & 4.71                                                                     \\\\\n",
       "\t42 & Bailey                                                                    & NC 12C*2 / N96076L                                                        & BC1F1-06-01-S-03-S-05: F09                                                & + +                                                                       & 2014                                                                      & LEW                                                                       & ATP-L                                                                     & Advanced Testing Program - Leafspot                                       & LS                                                                        & 7.01                                                                     \\\\\n",
       "\t45 & Bailey                                                                    & NC 12C*2 / N96076L                                                        & BC1F1-06-01-S-03-S-05: F09                                                & + +                                                                       & 2011                                                                      & LEW                                                                       & ATP-L                                                                     & Advanced Testing Program - Leafspot                                       & LS                                                                        & 7.19                                                                     \\\\\n",
       "\t48 & Bailey                                                                    & NC 12C*2 / N96076L                                                        & BC1F1-06-01-S-03-S-05: F09                                                & + +                                                                       & 2013                                                                      & LEW                                                                       & ATP-L                                                                     & Advanced Testing Program - Leafspot                                       & LS                                                                        & 3.00                                                                     \\\\\n",
       "\t53 & Bailey                                                                    & NC 12C*2 / N96076L                                                        & BC1F1-06-01-S-03-S-05: F09                                                & + +                                                                       & 2014                                                                      & LEW                                                                       & ATP-L                                                                     & Advanced Testing Program - Leafspot                                       & LS                                                                        & 6.50                                                                     \\\\\n",
       "\t54 & Bailey                                                                    & NC 12C*2 / N96076L                                                        & BC1F1-06-01-S-03-S-05: F09                                                & + +                                                                       & 2012                                                                      & LEW                                                                       & ATP-L                                                                     & Advanced Testing Program - Leafspot                                       & LS                                                                        & 2.00                                                                     \\\\\n",
       "\t59 & Bailey                                                                    & NC 12C*2 / N96076L                                                        & BC1F1-06-01-S-03-S-05: F09                                                & + +                                                                       & 2012                                                                      & LEW                                                                       & ATP-L                                                                     & Advanced Testing Program - Leafspot                                       & LS                                                                        & 2.00                                                                     \\\\\n",
       "\t61 & Bailey                                                                    & NC 12C*2 / N96076L                                                        & BC1F1-06-01-S-03-S-05: F09                                                & + +                                                                       & 2013                                                                      & LEW                                                                       & ATP-L                                                                     & Advanced Testing Program - Leafspot                                       & LS                                                                        & 4.00                                                                     \\\\\n",
       "\t63 & Bailey II                                                                 & Bailey /4/ X07016, Bailey // X05027, Bailey / N02060ol, X05249 /3/ Bailey & BC3F1-02-01-S-02-S-02: F09                                                & ol ol                                                                     & 2012                                                                      & LEW                                                                       & ATP-L                                                                     & Advanced Testing Program - Leafspot                                       & LS                                                                        & 2.00                                                                     \\\\\n",
       "\t65 & Bailey II                                                                 & Bailey /4/ X07016, Bailey // X05027, Bailey / N02060ol, X05249 /3/ Bailey & BC3F1-02-01-S-02-S-02: F09                                                & ol ol                                                                     & 2013                                                                      & LEW                                                                       & ATP-L                                                                     & Advanced Testing Program - Leafspot                                       & LS                                                                        & 3.50                                                                     \\\\\n",
       "\t68 & Bailey II                                                                 & Bailey /4/ X07016, Bailey // X05027, Bailey / N02060ol, X05249 /3/ Bailey & BC3F1-02-01-S-02-S-02: F09                                                & ol ol                                                                     & 2018                                                                      & LEW                                                                       & ATP-L                                                                     & Advanced Testing Program - Leafspot                                       & LS                                                                        & 4.50                                                                     \\\\\n",
       "\t69 & Bailey II                                                                 & Bailey /4/ X07016, Bailey // X05027, Bailey / N02060ol, X05249 /3/ Bailey & BC3F1-02-01-S-02-S-02: F09                                                & ol ol                                                                     & 2015                                                                      & LEW                                                                       & ATP-L                                                                     & Advanced Testing Program - Leafspot                                       & LS                                                                        & 5.46                                                                     \\\\\n",
       "\t70 & Bailey II                                                                 & Bailey /4/ X07016, Bailey // X05027, Bailey / N02060ol, X05249 /3/ Bailey & BC3F1-02-01-S-02-S-02: F09                                                & ol ol                                                                     & 2014                                                                      & LEW                                                                       & ATP-L                                                                     & Advanced Testing Program - Leafspot                                       & LS                                                                        & 6.00                                                                     \\\\\n",
       "\t71 & Bailey II                                                                 & Bailey /4/ X07016, Bailey // X05027, Bailey / N02060ol, X05249 /3/ Bailey & BC3F1-02-01-S-02-S-02: F09                                                & ol ol                                                                     & 2016                                                                      & LEW                                                                       & ATP-L                                                                     & Advanced Testing Program - Leafspot                                       & LS                                                                        & 5.00                                                                     \\\\\n",
       "\t73 & Bailey II                                                                 & Bailey /4/ X07016, Bailey // X05027, Bailey / N02060ol, X05249 /3/ Bailey & BC3F1-02-01-S-02-S-02: F09                                                & ol ol                                                                     & 2017                                                                      & LEW                                                                       & ATP-L                                                                     & Advanced Testing Program - Leafspot                                       & LS                                                                        & 7.77                                                                     \\\\\n",
       "\t79 & Bailey II                                                                 & Bailey /4/ X07016, Bailey // X05027, Bailey / N02060ol, X05249 /3/ Bailey & BC3F1-02-01-S-02-S-02: F09                                                & ol ol                                                                     & 2018                                                                      & LEW                                                                       & ATP-L                                                                     & Advanced Testing Program - Leafspot                                       & LS                                                                        & 5.62                                                                     \\\\\n",
       "\t126 & Emery                                                                     & N03079FT*2 / Brantley                                                     & BC1F1-03-01-01-02-02-01: F08                                              & ol ol                                                                     & 2018                                                                      & LEW                                                                       & ATP-L                                                                     & Advanced Testing Program - Leafspot                                       & LS                                                                        & 6.28                                                                     \\\\\n",
       "\t128 & Emery                                                                     & N03079FT*2 / Brantley                                                     & BC1F1-03-01-01-02-02-01: F08                                              & ol ol                                                                     & 2018                                                                      & LEW                                                                       & ATP-L                                                                     & Advanced Testing Program - Leafspot                                       & LS                                                                        & 6.00                                                                     \\\\\n",
       "\t147 & Emery                                                                     & N03079FT*2 / Brantley                                                     & BC1F1-03-01-01-02-02-01: F08                                              & ol ol                                                                     & 2011                                                                      & LEW                                                                       & ATP-L                                                                     & Advanced Testing Program - Leafspot                                       & LS                                                                        & 7.72                                                                     \\\\\n",
       "\t150 & Emery                                                                     & N03079FT*2 / Brantley                                                     & BC1F1-03-01-01-02-02-01: F08                                              & ol ol                                                                     & 2012                                                                      & LEW                                                                       & ATP-L                                                                     & Advanced Testing Program - Leafspot                                       & LS                                                                        & 2.00                                                                     \\\\\n",
       "\t151 & Emery                                                                     & N03079FT*2 / Brantley                                                     & BC1F1-03-01-01-02-02-01: F08                                              & ol ol                                                                     & 2017                                                                      & LEW                                                                       & ATP-L                                                                     & Advanced Testing Program - Leafspot                                       & LS                                                                        & 8.00                                                                     \\\\\n",
       "\t156 & Emery                                                                     & N03079FT*2 / Brantley                                                     & BC1F1-03-01-01-02-02-01: F08                                              & ol ol                                                                     & 2017                                                                      & LEW                                                                       & ATP-L                                                                     & Advanced Testing Program - Leafspot                                       & LS                                                                        & 8.11                                                                     \\\\\n",
       "\t157 & Emery                                                                     & N03079FT*2 / Brantley                                                     & BC1F1-03-01-01-02-02-01: F08                                              & ol ol                                                                     & 2014                                                                      & LEW                                                                       & ATP-L                                                                     & Advanced Testing Program - Leafspot                                       & LS                                                                        & 6.50                                                                     \\\\\n",
       "\t... & ... & ... & ... & ... & ... & ... & ... & ... & ... & ...\\\\\n",
       "\t2594 & Sullivan                            & N03079FT*2 / N02059ol               & BC1F1-04-02-S-04-S-03: F09          & ol ol                               & 2011                                & LEW                                 & ATP-L                               & Advanced Testing Program - Leafspot & LS                                  & 6.31                               \\\\\n",
       "\t2595 & Sullivan                            & N03079FT*2 / N02059ol               & BC1F1-04-02-S-04-S-03: F09          & ol ol                               & 2012                                & LEW                                 & ATP-L                               & Advanced Testing Program - Leafspot & LS                                  & 2.00                               \\\\\n",
       "\t2596 & Sullivan                            & N03079FT*2 / N02059ol               & BC1F1-04-02-S-04-S-03: F09          & ol ol                               & 2013                                & LEW                                 & ATP-L                               & Advanced Testing Program - Leafspot & LS                                  & 3.00                               \\\\\n",
       "\t2597 & Sullivan                            & N03079FT*2 / N02059ol               & BC1F1-04-02-S-04-S-03: F09          & ol ol                               & 2014                                & LEW                                 & ATP-L                               & Advanced Testing Program - Leafspot & LS                                  & 6.74                               \\\\\n",
       "\t2598 & Sullivan                            & N03079FT*2 / N02059ol               & BC1F1-04-02-S-04-S-03: F09          & ol ol                               & 2014                                & LEW                                 & ATP-L                               & Advanced Testing Program - Leafspot & LS                                  & 6.00                               \\\\\n",
       "\t2599 & Sullivan                            & N03079FT*2 / N02059ol               & BC1F1-04-02-S-04-S-03: F09          & ol ol                               & 2015                                & LEW                                 & ATP-L                               & Advanced Testing Program - Leafspot & LS                                  & 5.32                               \\\\\n",
       "\t2600 & Sullivan                            & N03079FT*2 / N02059ol               & BC1F1-04-02-S-04-S-03: F09          & ol ol                               & 2015                                & LEW                                 & ATP-L                               & Advanced Testing Program - Leafspot & LS                                  & 4.70                               \\\\\n",
       "\t2601 & Sullivan                            & N03079FT*2 / N02059ol               & BC1F1-04-02-S-04-S-03: F09          & ol ol                               & 2016                                & LEW                                 & ATP-L                               & Advanced Testing Program - Leafspot & LS                                  & 4.00                               \\\\\n",
       "\t2602 & Sullivan                            & N03079FT*2 / N02059ol               & BC1F1-04-02-S-04-S-03: F09          & ol ol                               & 2016                                & LEW                                 & ATP-L                               & Advanced Testing Program - Leafspot & LS                                  & 5.00                               \\\\\n",
       "\t2603 & Sullivan                            & N03079FT*2 / N02059ol               & BC1F1-04-02-S-04-S-03: F09          & ol ol                               & 2017                                & LEW                                 & ATP-L                               & Advanced Testing Program - Leafspot & LS                                  & 8.00                               \\\\\n",
       "\t2604 & Sullivan                            & N03079FT*2 / N02059ol               & BC1F1-04-02-S-04-S-03: F09          & ol ol                               & 2018                                & LEW                                 & ATP-L                               & Advanced Testing Program - Leafspot & LS                                  & 5.00                               \\\\\n",
       "\t2605 & Sullivan                            & N03079FT*2 / N02059ol               & BC1F1-04-02-S-04-S-03: F09          & ol ol                               & 2010                                & LEW                                 & ATP-L                               & Advanced Testing Program - Leafspot & LS                                  & 2.00                               \\\\\n",
       "\t2606 & Sullivan                            & N03079FT*2 / N02059ol               & BC1F1-04-02-S-04-S-03: F09          & ol ol                               & 2011                                & LEW                                 & ATP-L                               & Advanced Testing Program - Leafspot & LS                                  & 6.06                               \\\\\n",
       "\t2616 & Sullivan                            & N03079FT*2 / N02059ol               & BC1F1-04-02-S-04-S-03: F09          & ol ol                               & 2017                                & LEW                                 & ATP-L                               & Advanced Testing Program - Leafspot & LS                                  & 7.38                               \\\\\n",
       "\t2660 & Wynne                               & Bailey*2 / Brantley                 & BC1F1-04-01-S-02-S-02: F09          & ol ol                               & 2010                                & LEW                                 & ATP-L                               & Advanced Testing Program - Leafspot & LS                                  & 2.94                               \\\\\n",
       "\t2661 & Wynne                               & Bailey*2 / Brantley                 & BC1F1-04-01-S-02-S-02: F09          & ol ol                               & 2011                                & LEW                                 & ATP-L                               & Advanced Testing Program - Leafspot & LS                                  & 7.17                               \\\\\n",
       "\t2662 & Wynne                               & Bailey*2 / Brantley                 & BC1F1-04-01-S-02-S-02: F09          & ol ol                               & 2011                                & LEW                                 & ATP-L                               & Advanced Testing Program - Leafspot & LS                                  & 7.31                               \\\\\n",
       "\t2663 & Wynne                               & Bailey*2 / Brantley                 & BC1F1-04-01-S-02-S-02: F09          & ol ol                               & 2012                                & LEW                                 & ATP-L                               & Advanced Testing Program - Leafspot & LS                                  & 2.00                               \\\\\n",
       "\t2664 & Wynne                               & Bailey*2 / Brantley                 & BC1F1-04-01-S-02-S-02: F09          & ol ol                               & 2013                                & LEW                                 & ATP-L                               & Advanced Testing Program - Leafspot & LS                                  & 3.00                               \\\\\n",
       "\t2665 & Wynne                               & Bailey*2 / Brantley                 & BC1F1-04-01-S-02-S-02: F09          & ol ol                               & 2013                                & LEW                                 & ATP-L                               & Advanced Testing Program - Leafspot & LS                                  & 3.50                               \\\\\n",
       "\t2666 & Wynne                               & Bailey*2 / Brantley                 & BC1F1-04-01-S-02-S-02: F09          & ol ol                               & 2014                                & LEW                                 & ATP-L                               & Advanced Testing Program - Leafspot & LS                                  & 6.97                               \\\\\n",
       "\t2667 & Wynne                               & Bailey*2 / Brantley                 & BC1F1-04-01-S-02-S-02: F09          & ol ol                               & 2014                                & LEW                                 & ATP-L                               & Advanced Testing Program - Leafspot & LS                                  & 6.00                               \\\\\n",
       "\t2668 & Wynne                               & Bailey*2 / Brantley                 & BC1F1-04-01-S-02-S-02: F09          & ol ol                               & 2015                                & LEW                                 & ATP-L                               & Advanced Testing Program - Leafspot & LS                                  & 7.14                               \\\\\n",
       "\t2669 & Wynne                               & Bailey*2 / Brantley                 & BC1F1-04-01-S-02-S-02: F09          & ol ol                               & 2015                                & LEW                                 & ATP-L                               & Advanced Testing Program - Leafspot & LS                                  & 5.74                               \\\\\n",
       "\t2670 & Wynne                               & Bailey*2 / Brantley                 & BC1F1-04-01-S-02-S-02: F09          & ol ol                               & 2016                                & LEW                                 & ATP-L                               & Advanced Testing Program - Leafspot & LS                                  & 4.50                               \\\\\n",
       "\t2671 & Wynne                               & Bailey*2 / Brantley                 & BC1F1-04-01-S-02-S-02: F09          & ol ol                               & 2016                                & LEW                                 & ATP-L                               & Advanced Testing Program - Leafspot & LS                                  & 4.00                               \\\\\n",
       "\t2672 & Wynne                               & Bailey*2 / Brantley                 & BC1F1-04-01-S-02-S-02: F09          & ol ol                               & 2017                                & LEW                                 & ATP-L                               & Advanced Testing Program - Leafspot & LS                                  & 7.80                               \\\\\n",
       "\t2673 & Wynne                               & Bailey*2 / Brantley                 & BC1F1-04-01-S-02-S-02: F09          & ol ol                               & 2017                                & LEW                                 & ATP-L                               & Advanced Testing Program - Leafspot & LS                                  & 8.00                               \\\\\n",
       "\t2674 & Wynne                               & Bailey*2 / Brantley                 & BC1F1-04-01-S-02-S-02: F09          & ol ol                               & 2018                                & LEW                                 & ATP-L                               & Advanced Testing Program - Leafspot & LS                                  & 6.00                               \\\\\n",
       "\t2675 & Wynne                               & Bailey*2 / Brantley                 & BC1F1-04-01-S-02-S-02: F09          & ol ol                               & 2018                                & LEW                                 & ATP-L                               & Advanced Testing Program - Leafspot & LS                                  & 6.66                               \\\\\n",
       "\\end{tabular}\n"
      ],
      "text/markdown": [
       "\n",
       "| <!--/--> | NC_Accession | Parentage | Pedigree | FAG | Year | Location | Name | Label | Rating | Disease |\n",
       "|---|---|---|---|---|---|---|---|---|---|---|\n",
       "| 10 | Bailey                                                                    | NC 12C*2 / N96076L                                                        | BC1F1-06-01-S-03-S-05: F09                                                | + +                                                                       | 2010                                                                      | LEW                                                                       | ATP-L                                                                     | Advanced Testing Program - Leafspot                                       | LS                                                                        | 2.50                                                                      |\n",
       "| 14 | Bailey                                                                    | NC 12C*2 / N96076L                                                        | BC1F1-06-01-S-03-S-05: F09                                                | + +                                                                       | 2017                                                                      | LEW                                                                       | ATP-L                                                                     | Advanced Testing Program - Leafspot                                       | LS                                                                        | 8.00                                                                      |\n",
       "| 20 | Bailey                                                                    | NC 12C*2 / N96076L                                                        | BC1F1-06-01-S-03-S-05: F09                                                | + +                                                                       | 2016                                                                      | LEW                                                                       | ATP-L                                                                     | Advanced Testing Program - Leafspot                                       | LS                                                                        | 4.00                                                                      |\n",
       "| 30 | Bailey                                                                    | NC 12C*2 / N96076L                                                        | BC1F1-06-01-S-03-S-05: F09                                                | + +                                                                       | 2010                                                                      | LEW                                                                       | ATP-L                                                                     | Advanced Testing Program - Leafspot                                       | LS                                                                        | 2.55                                                                      |\n",
       "| 33 | Bailey                                                                    | NC 12C*2 / N96076L                                                        | BC1F1-06-01-S-03-S-05: F09                                                | + +                                                                       | 2016                                                                      | LEW                                                                       | ATP-L                                                                     | Advanced Testing Program - Leafspot                                       | LS                                                                        | 6.00                                                                      |\n",
       "| 34 | Bailey                                                                    | NC 12C*2 / N96076L                                                        | BC1F1-06-01-S-03-S-05: F09                                                | + +                                                                       | 2011                                                                      | LEW                                                                       | ATP-L                                                                     | Advanced Testing Program - Leafspot                                       | LS                                                                        | 7.17                                                                      |\n",
       "| 38 | Bailey                                                                    | NC 12C*2 / N96076L                                                        | BC1F1-06-01-S-03-S-05: F09                                                | + +                                                                       | 2015                                                                      | LEW                                                                       | ATP-L                                                                     | Advanced Testing Program - Leafspot                                       | LS                                                                        | 5.79                                                                      |\n",
       "| 39 | Bailey                                                                    | NC 12C*2 / N96076L                                                        | BC1F1-06-01-S-03-S-05: F09                                                | + +                                                                       | 2015                                                                      | LEW                                                                       | ATP-L                                                                     | Advanced Testing Program - Leafspot                                       | LS                                                                        | 4.71                                                                      |\n",
       "| 42 | Bailey                                                                    | NC 12C*2 / N96076L                                                        | BC1F1-06-01-S-03-S-05: F09                                                | + +                                                                       | 2014                                                                      | LEW                                                                       | ATP-L                                                                     | Advanced Testing Program - Leafspot                                       | LS                                                                        | 7.01                                                                      |\n",
       "| 45 | Bailey                                                                    | NC 12C*2 / N96076L                                                        | BC1F1-06-01-S-03-S-05: F09                                                | + +                                                                       | 2011                                                                      | LEW                                                                       | ATP-L                                                                     | Advanced Testing Program - Leafspot                                       | LS                                                                        | 7.19                                                                      |\n",
       "| 48 | Bailey                                                                    | NC 12C*2 / N96076L                                                        | BC1F1-06-01-S-03-S-05: F09                                                | + +                                                                       | 2013                                                                      | LEW                                                                       | ATP-L                                                                     | Advanced Testing Program - Leafspot                                       | LS                                                                        | 3.00                                                                      |\n",
       "| 53 | Bailey                                                                    | NC 12C*2 / N96076L                                                        | BC1F1-06-01-S-03-S-05: F09                                                | + +                                                                       | 2014                                                                      | LEW                                                                       | ATP-L                                                                     | Advanced Testing Program - Leafspot                                       | LS                                                                        | 6.50                                                                      |\n",
       "| 54 | Bailey                                                                    | NC 12C*2 / N96076L                                                        | BC1F1-06-01-S-03-S-05: F09                                                | + +                                                                       | 2012                                                                      | LEW                                                                       | ATP-L                                                                     | Advanced Testing Program - Leafspot                                       | LS                                                                        | 2.00                                                                      |\n",
       "| 59 | Bailey                                                                    | NC 12C*2 / N96076L                                                        | BC1F1-06-01-S-03-S-05: F09                                                | + +                                                                       | 2012                                                                      | LEW                                                                       | ATP-L                                                                     | Advanced Testing Program - Leafspot                                       | LS                                                                        | 2.00                                                                      |\n",
       "| 61 | Bailey                                                                    | NC 12C*2 / N96076L                                                        | BC1F1-06-01-S-03-S-05: F09                                                | + +                                                                       | 2013                                                                      | LEW                                                                       | ATP-L                                                                     | Advanced Testing Program - Leafspot                                       | LS                                                                        | 4.00                                                                      |\n",
       "| 63 | Bailey II                                                                 | Bailey /4/ X07016, Bailey // X05027, Bailey / N02060ol, X05249 /3/ Bailey | BC3F1-02-01-S-02-S-02: F09                                                | ol ol                                                                     | 2012                                                                      | LEW                                                                       | ATP-L                                                                     | Advanced Testing Program - Leafspot                                       | LS                                                                        | 2.00                                                                      |\n",
       "| 65 | Bailey II                                                                 | Bailey /4/ X07016, Bailey // X05027, Bailey / N02060ol, X05249 /3/ Bailey | BC3F1-02-01-S-02-S-02: F09                                                | ol ol                                                                     | 2013                                                                      | LEW                                                                       | ATP-L                                                                     | Advanced Testing Program - Leafspot                                       | LS                                                                        | 3.50                                                                      |\n",
       "| 68 | Bailey II                                                                 | Bailey /4/ X07016, Bailey // X05027, Bailey / N02060ol, X05249 /3/ Bailey | BC3F1-02-01-S-02-S-02: F09                                                | ol ol                                                                     | 2018                                                                      | LEW                                                                       | ATP-L                                                                     | Advanced Testing Program - Leafspot                                       | LS                                                                        | 4.50                                                                      |\n",
       "| 69 | Bailey II                                                                 | Bailey /4/ X07016, Bailey // X05027, Bailey / N02060ol, X05249 /3/ Bailey | BC3F1-02-01-S-02-S-02: F09                                                | ol ol                                                                     | 2015                                                                      | LEW                                                                       | ATP-L                                                                     | Advanced Testing Program - Leafspot                                       | LS                                                                        | 5.46                                                                      |\n",
       "| 70 | Bailey II                                                                 | Bailey /4/ X07016, Bailey // X05027, Bailey / N02060ol, X05249 /3/ Bailey | BC3F1-02-01-S-02-S-02: F09                                                | ol ol                                                                     | 2014                                                                      | LEW                                                                       | ATP-L                                                                     | Advanced Testing Program - Leafspot                                       | LS                                                                        | 6.00                                                                      |\n",
       "| 71 | Bailey II                                                                 | Bailey /4/ X07016, Bailey // X05027, Bailey / N02060ol, X05249 /3/ Bailey | BC3F1-02-01-S-02-S-02: F09                                                | ol ol                                                                     | 2016                                                                      | LEW                                                                       | ATP-L                                                                     | Advanced Testing Program - Leafspot                                       | LS                                                                        | 5.00                                                                      |\n",
       "| 73 | Bailey II                                                                 | Bailey /4/ X07016, Bailey // X05027, Bailey / N02060ol, X05249 /3/ Bailey | BC3F1-02-01-S-02-S-02: F09                                                | ol ol                                                                     | 2017                                                                      | LEW                                                                       | ATP-L                                                                     | Advanced Testing Program - Leafspot                                       | LS                                                                        | 7.77                                                                      |\n",
       "| 79 | Bailey II                                                                 | Bailey /4/ X07016, Bailey // X05027, Bailey / N02060ol, X05249 /3/ Bailey | BC3F1-02-01-S-02-S-02: F09                                                | ol ol                                                                     | 2018                                                                      | LEW                                                                       | ATP-L                                                                     | Advanced Testing Program - Leafspot                                       | LS                                                                        | 5.62                                                                      |\n",
       "| 126 | Emery                                                                     | N03079FT*2 / Brantley                                                     | BC1F1-03-01-01-02-02-01: F08                                              | ol ol                                                                     | 2018                                                                      | LEW                                                                       | ATP-L                                                                     | Advanced Testing Program - Leafspot                                       | LS                                                                        | 6.28                                                                      |\n",
       "| 128 | Emery                                                                     | N03079FT*2 / Brantley                                                     | BC1F1-03-01-01-02-02-01: F08                                              | ol ol                                                                     | 2018                                                                      | LEW                                                                       | ATP-L                                                                     | Advanced Testing Program - Leafspot                                       | LS                                                                        | 6.00                                                                      |\n",
       "| 147 | Emery                                                                     | N03079FT*2 / Brantley                                                     | BC1F1-03-01-01-02-02-01: F08                                              | ol ol                                                                     | 2011                                                                      | LEW                                                                       | ATP-L                                                                     | Advanced Testing Program - Leafspot                                       | LS                                                                        | 7.72                                                                      |\n",
       "| 150 | Emery                                                                     | N03079FT*2 / Brantley                                                     | BC1F1-03-01-01-02-02-01: F08                                              | ol ol                                                                     | 2012                                                                      | LEW                                                                       | ATP-L                                                                     | Advanced Testing Program - Leafspot                                       | LS                                                                        | 2.00                                                                      |\n",
       "| 151 | Emery                                                                     | N03079FT*2 / Brantley                                                     | BC1F1-03-01-01-02-02-01: F08                                              | ol ol                                                                     | 2017                                                                      | LEW                                                                       | ATP-L                                                                     | Advanced Testing Program - Leafspot                                       | LS                                                                        | 8.00                                                                      |\n",
       "| 156 | Emery                                                                     | N03079FT*2 / Brantley                                                     | BC1F1-03-01-01-02-02-01: F08                                              | ol ol                                                                     | 2017                                                                      | LEW                                                                       | ATP-L                                                                     | Advanced Testing Program - Leafspot                                       | LS                                                                        | 8.11                                                                      |\n",
       "| 157 | Emery                                                                     | N03079FT*2 / Brantley                                                     | BC1F1-03-01-01-02-02-01: F08                                              | ol ol                                                                     | 2014                                                                      | LEW                                                                       | ATP-L                                                                     | Advanced Testing Program - Leafspot                                       | LS                                                                        | 6.50                                                                      |\n",
       "| ... | ... | ... | ... | ... | ... | ... | ... | ... | ... | ... |\n",
       "| 2594 | Sullivan                            | N03079FT*2 / N02059ol               | BC1F1-04-02-S-04-S-03: F09          | ol ol                               | 2011                                | LEW                                 | ATP-L                               | Advanced Testing Program - Leafspot | LS                                  | 6.31                                |\n",
       "| 2595 | Sullivan                            | N03079FT*2 / N02059ol               | BC1F1-04-02-S-04-S-03: F09          | ol ol                               | 2012                                | LEW                                 | ATP-L                               | Advanced Testing Program - Leafspot | LS                                  | 2.00                                |\n",
       "| 2596 | Sullivan                            | N03079FT*2 / N02059ol               | BC1F1-04-02-S-04-S-03: F09          | ol ol                               | 2013                                | LEW                                 | ATP-L                               | Advanced Testing Program - Leafspot | LS                                  | 3.00                                |\n",
       "| 2597 | Sullivan                            | N03079FT*2 / N02059ol               | BC1F1-04-02-S-04-S-03: F09          | ol ol                               | 2014                                | LEW                                 | ATP-L                               | Advanced Testing Program - Leafspot | LS                                  | 6.74                                |\n",
       "| 2598 | Sullivan                            | N03079FT*2 / N02059ol               | BC1F1-04-02-S-04-S-03: F09          | ol ol                               | 2014                                | LEW                                 | ATP-L                               | Advanced Testing Program - Leafspot | LS                                  | 6.00                                |\n",
       "| 2599 | Sullivan                            | N03079FT*2 / N02059ol               | BC1F1-04-02-S-04-S-03: F09          | ol ol                               | 2015                                | LEW                                 | ATP-L                               | Advanced Testing Program - Leafspot | LS                                  | 5.32                                |\n",
       "| 2600 | Sullivan                            | N03079FT*2 / N02059ol               | BC1F1-04-02-S-04-S-03: F09          | ol ol                               | 2015                                | LEW                                 | ATP-L                               | Advanced Testing Program - Leafspot | LS                                  | 4.70                                |\n",
       "| 2601 | Sullivan                            | N03079FT*2 / N02059ol               | BC1F1-04-02-S-04-S-03: F09          | ol ol                               | 2016                                | LEW                                 | ATP-L                               | Advanced Testing Program - Leafspot | LS                                  | 4.00                                |\n",
       "| 2602 | Sullivan                            | N03079FT*2 / N02059ol               | BC1F1-04-02-S-04-S-03: F09          | ol ol                               | 2016                                | LEW                                 | ATP-L                               | Advanced Testing Program - Leafspot | LS                                  | 5.00                                |\n",
       "| 2603 | Sullivan                            | N03079FT*2 / N02059ol               | BC1F1-04-02-S-04-S-03: F09          | ol ol                               | 2017                                | LEW                                 | ATP-L                               | Advanced Testing Program - Leafspot | LS                                  | 8.00                                |\n",
       "| 2604 | Sullivan                            | N03079FT*2 / N02059ol               | BC1F1-04-02-S-04-S-03: F09          | ol ol                               | 2018                                | LEW                                 | ATP-L                               | Advanced Testing Program - Leafspot | LS                                  | 5.00                                |\n",
       "| 2605 | Sullivan                            | N03079FT*2 / N02059ol               | BC1F1-04-02-S-04-S-03: F09          | ol ol                               | 2010                                | LEW                                 | ATP-L                               | Advanced Testing Program - Leafspot | LS                                  | 2.00                                |\n",
       "| 2606 | Sullivan                            | N03079FT*2 / N02059ol               | BC1F1-04-02-S-04-S-03: F09          | ol ol                               | 2011                                | LEW                                 | ATP-L                               | Advanced Testing Program - Leafspot | LS                                  | 6.06                                |\n",
       "| 2616 | Sullivan                            | N03079FT*2 / N02059ol               | BC1F1-04-02-S-04-S-03: F09          | ol ol                               | 2017                                | LEW                                 | ATP-L                               | Advanced Testing Program - Leafspot | LS                                  | 7.38                                |\n",
       "| 2660 | Wynne                               | Bailey*2 / Brantley                 | BC1F1-04-01-S-02-S-02: F09          | ol ol                               | 2010                                | LEW                                 | ATP-L                               | Advanced Testing Program - Leafspot | LS                                  | 2.94                                |\n",
       "| 2661 | Wynne                               | Bailey*2 / Brantley                 | BC1F1-04-01-S-02-S-02: F09          | ol ol                               | 2011                                | LEW                                 | ATP-L                               | Advanced Testing Program - Leafspot | LS                                  | 7.17                                |\n",
       "| 2662 | Wynne                               | Bailey*2 / Brantley                 | BC1F1-04-01-S-02-S-02: F09          | ol ol                               | 2011                                | LEW                                 | ATP-L                               | Advanced Testing Program - Leafspot | LS                                  | 7.31                                |\n",
       "| 2663 | Wynne                               | Bailey*2 / Brantley                 | BC1F1-04-01-S-02-S-02: F09          | ol ol                               | 2012                                | LEW                                 | ATP-L                               | Advanced Testing Program - Leafspot | LS                                  | 2.00                                |\n",
       "| 2664 | Wynne                               | Bailey*2 / Brantley                 | BC1F1-04-01-S-02-S-02: F09          | ol ol                               | 2013                                | LEW                                 | ATP-L                               | Advanced Testing Program - Leafspot | LS                                  | 3.00                                |\n",
       "| 2665 | Wynne                               | Bailey*2 / Brantley                 | BC1F1-04-01-S-02-S-02: F09          | ol ol                               | 2013                                | LEW                                 | ATP-L                               | Advanced Testing Program - Leafspot | LS                                  | 3.50                                |\n",
       "| 2666 | Wynne                               | Bailey*2 / Brantley                 | BC1F1-04-01-S-02-S-02: F09          | ol ol                               | 2014                                | LEW                                 | ATP-L                               | Advanced Testing Program - Leafspot | LS                                  | 6.97                                |\n",
       "| 2667 | Wynne                               | Bailey*2 / Brantley                 | BC1F1-04-01-S-02-S-02: F09          | ol ol                               | 2014                                | LEW                                 | ATP-L                               | Advanced Testing Program - Leafspot | LS                                  | 6.00                                |\n",
       "| 2668 | Wynne                               | Bailey*2 / Brantley                 | BC1F1-04-01-S-02-S-02: F09          | ol ol                               | 2015                                | LEW                                 | ATP-L                               | Advanced Testing Program - Leafspot | LS                                  | 7.14                                |\n",
       "| 2669 | Wynne                               | Bailey*2 / Brantley                 | BC1F1-04-01-S-02-S-02: F09          | ol ol                               | 2015                                | LEW                                 | ATP-L                               | Advanced Testing Program - Leafspot | LS                                  | 5.74                                |\n",
       "| 2670 | Wynne                               | Bailey*2 / Brantley                 | BC1F1-04-01-S-02-S-02: F09          | ol ol                               | 2016                                | LEW                                 | ATP-L                               | Advanced Testing Program - Leafspot | LS                                  | 4.50                                |\n",
       "| 2671 | Wynne                               | Bailey*2 / Brantley                 | BC1F1-04-01-S-02-S-02: F09          | ol ol                               | 2016                                | LEW                                 | ATP-L                               | Advanced Testing Program - Leafspot | LS                                  | 4.00                                |\n",
       "| 2672 | Wynne                               | Bailey*2 / Brantley                 | BC1F1-04-01-S-02-S-02: F09          | ol ol                               | 2017                                | LEW                                 | ATP-L                               | Advanced Testing Program - Leafspot | LS                                  | 7.80                                |\n",
       "| 2673 | Wynne                               | Bailey*2 / Brantley                 | BC1F1-04-01-S-02-S-02: F09          | ol ol                               | 2017                                | LEW                                 | ATP-L                               | Advanced Testing Program - Leafspot | LS                                  | 8.00                                |\n",
       "| 2674 | Wynne                               | Bailey*2 / Brantley                 | BC1F1-04-01-S-02-S-02: F09          | ol ol                               | 2018                                | LEW                                 | ATP-L                               | Advanced Testing Program - Leafspot | LS                                  | 6.00                                |\n",
       "| 2675 | Wynne                               | Bailey*2 / Brantley                 | BC1F1-04-01-S-02-S-02: F09          | ol ol                               | 2018                                | LEW                                 | ATP-L                               | Advanced Testing Program - Leafspot | LS                                  | 6.66                                |\n",
       "\n"
      ],
      "text/plain": [
       "     NC_Accession\n",
       "10   Bailey      \n",
       "14   Bailey      \n",
       "20   Bailey      \n",
       "30   Bailey      \n",
       "33   Bailey      \n",
       "34   Bailey      \n",
       "38   Bailey      \n",
       "39   Bailey      \n",
       "42   Bailey      \n",
       "45   Bailey      \n",
       "48   Bailey      \n",
       "53   Bailey      \n",
       "54   Bailey      \n",
       "59   Bailey      \n",
       "61   Bailey      \n",
       "63   Bailey II   \n",
       "65   Bailey II   \n",
       "68   Bailey II   \n",
       "69   Bailey II   \n",
       "70   Bailey II   \n",
       "71   Bailey II   \n",
       "73   Bailey II   \n",
       "79   Bailey II   \n",
       "126  Emery       \n",
       "128  Emery       \n",
       "147  Emery       \n",
       "150  Emery       \n",
       "151  Emery       \n",
       "156  Emery       \n",
       "157  Emery       \n",
       "...  ...         \n",
       "2594 Sullivan    \n",
       "2595 Sullivan    \n",
       "2596 Sullivan    \n",
       "2597 Sullivan    \n",
       "2598 Sullivan    \n",
       "2599 Sullivan    \n",
       "2600 Sullivan    \n",
       "2601 Sullivan    \n",
       "2602 Sullivan    \n",
       "2603 Sullivan    \n",
       "2604 Sullivan    \n",
       "2605 Sullivan    \n",
       "2606 Sullivan    \n",
       "2616 Sullivan    \n",
       "2660 Wynne       \n",
       "2661 Wynne       \n",
       "2662 Wynne       \n",
       "2663 Wynne       \n",
       "2664 Wynne       \n",
       "2665 Wynne       \n",
       "2666 Wynne       \n",
       "2667 Wynne       \n",
       "2668 Wynne       \n",
       "2669 Wynne       \n",
       "2670 Wynne       \n",
       "2671 Wynne       \n",
       "2672 Wynne       \n",
       "2673 Wynne       \n",
       "2674 Wynne       \n",
       "2675 Wynne       \n",
       "     Parentage                                                                \n",
       "10   NC 12C*2 / N96076L                                                       \n",
       "14   NC 12C*2 / N96076L                                                       \n",
       "20   NC 12C*2 / N96076L                                                       \n",
       "30   NC 12C*2 / N96076L                                                       \n",
       "33   NC 12C*2 / N96076L                                                       \n",
       "34   NC 12C*2 / N96076L                                                       \n",
       "38   NC 12C*2 / N96076L                                                       \n",
       "39   NC 12C*2 / N96076L                                                       \n",
       "42   NC 12C*2 / N96076L                                                       \n",
       "45   NC 12C*2 / N96076L                                                       \n",
       "48   NC 12C*2 / N96076L                                                       \n",
       "53   NC 12C*2 / N96076L                                                       \n",
       "54   NC 12C*2 / N96076L                                                       \n",
       "59   NC 12C*2 / N96076L                                                       \n",
       "61   NC 12C*2 / N96076L                                                       \n",
       "63   Bailey /4/ X07016, Bailey // X05027, Bailey / N02060ol, X05249 /3/ Bailey\n",
       "65   Bailey /4/ X07016, Bailey // X05027, Bailey / N02060ol, X05249 /3/ Bailey\n",
       "68   Bailey /4/ X07016, Bailey // X05027, Bailey / N02060ol, X05249 /3/ Bailey\n",
       "69   Bailey /4/ X07016, Bailey // X05027, Bailey / N02060ol, X05249 /3/ Bailey\n",
       "70   Bailey /4/ X07016, Bailey // X05027, Bailey / N02060ol, X05249 /3/ Bailey\n",
       "71   Bailey /4/ X07016, Bailey // X05027, Bailey / N02060ol, X05249 /3/ Bailey\n",
       "73   Bailey /4/ X07016, Bailey // X05027, Bailey / N02060ol, X05249 /3/ Bailey\n",
       "79   Bailey /4/ X07016, Bailey // X05027, Bailey / N02060ol, X05249 /3/ Bailey\n",
       "126  N03079FT*2 / Brantley                                                    \n",
       "128  N03079FT*2 / Brantley                                                    \n",
       "147  N03079FT*2 / Brantley                                                    \n",
       "150  N03079FT*2 / Brantley                                                    \n",
       "151  N03079FT*2 / Brantley                                                    \n",
       "156  N03079FT*2 / Brantley                                                    \n",
       "157  N03079FT*2 / Brantley                                                    \n",
       "...  ...                                                                      \n",
       "2594 N03079FT*2 / N02059ol                                                    \n",
       "2595 N03079FT*2 / N02059ol                                                    \n",
       "2596 N03079FT*2 / N02059ol                                                    \n",
       "2597 N03079FT*2 / N02059ol                                                    \n",
       "2598 N03079FT*2 / N02059ol                                                    \n",
       "2599 N03079FT*2 / N02059ol                                                    \n",
       "2600 N03079FT*2 / N02059ol                                                    \n",
       "2601 N03079FT*2 / N02059ol                                                    \n",
       "2602 N03079FT*2 / N02059ol                                                    \n",
       "2603 N03079FT*2 / N02059ol                                                    \n",
       "2604 N03079FT*2 / N02059ol                                                    \n",
       "2605 N03079FT*2 / N02059ol                                                    \n",
       "2606 N03079FT*2 / N02059ol                                                    \n",
       "2616 N03079FT*2 / N02059ol                                                    \n",
       "2660 Bailey*2 / Brantley                                                      \n",
       "2661 Bailey*2 / Brantley                                                      \n",
       "2662 Bailey*2 / Brantley                                                      \n",
       "2663 Bailey*2 / Brantley                                                      \n",
       "2664 Bailey*2 / Brantley                                                      \n",
       "2665 Bailey*2 / Brantley                                                      \n",
       "2666 Bailey*2 / Brantley                                                      \n",
       "2667 Bailey*2 / Brantley                                                      \n",
       "2668 Bailey*2 / Brantley                                                      \n",
       "2669 Bailey*2 / Brantley                                                      \n",
       "2670 Bailey*2 / Brantley                                                      \n",
       "2671 Bailey*2 / Brantley                                                      \n",
       "2672 Bailey*2 / Brantley                                                      \n",
       "2673 Bailey*2 / Brantley                                                      \n",
       "2674 Bailey*2 / Brantley                                                      \n",
       "2675 Bailey*2 / Brantley                                                      \n",
       "     Pedigree                     FAG   Year Location Name \n",
       "10   BC1F1-06-01-S-03-S-05: F09   + +   2010 LEW      ATP-L\n",
       "14   BC1F1-06-01-S-03-S-05: F09   + +   2017 LEW      ATP-L\n",
       "20   BC1F1-06-01-S-03-S-05: F09   + +   2016 LEW      ATP-L\n",
       "30   BC1F1-06-01-S-03-S-05: F09   + +   2010 LEW      ATP-L\n",
       "33   BC1F1-06-01-S-03-S-05: F09   + +   2016 LEW      ATP-L\n",
       "34   BC1F1-06-01-S-03-S-05: F09   + +   2011 LEW      ATP-L\n",
       "38   BC1F1-06-01-S-03-S-05: F09   + +   2015 LEW      ATP-L\n",
       "39   BC1F1-06-01-S-03-S-05: F09   + +   2015 LEW      ATP-L\n",
       "42   BC1F1-06-01-S-03-S-05: F09   + +   2014 LEW      ATP-L\n",
       "45   BC1F1-06-01-S-03-S-05: F09   + +   2011 LEW      ATP-L\n",
       "48   BC1F1-06-01-S-03-S-05: F09   + +   2013 LEW      ATP-L\n",
       "53   BC1F1-06-01-S-03-S-05: F09   + +   2014 LEW      ATP-L\n",
       "54   BC1F1-06-01-S-03-S-05: F09   + +   2012 LEW      ATP-L\n",
       "59   BC1F1-06-01-S-03-S-05: F09   + +   2012 LEW      ATP-L\n",
       "61   BC1F1-06-01-S-03-S-05: F09   + +   2013 LEW      ATP-L\n",
       "63   BC3F1-02-01-S-02-S-02: F09   ol ol 2012 LEW      ATP-L\n",
       "65   BC3F1-02-01-S-02-S-02: F09   ol ol 2013 LEW      ATP-L\n",
       "68   BC3F1-02-01-S-02-S-02: F09   ol ol 2018 LEW      ATP-L\n",
       "69   BC3F1-02-01-S-02-S-02: F09   ol ol 2015 LEW      ATP-L\n",
       "70   BC3F1-02-01-S-02-S-02: F09   ol ol 2014 LEW      ATP-L\n",
       "71   BC3F1-02-01-S-02-S-02: F09   ol ol 2016 LEW      ATP-L\n",
       "73   BC3F1-02-01-S-02-S-02: F09   ol ol 2017 LEW      ATP-L\n",
       "79   BC3F1-02-01-S-02-S-02: F09   ol ol 2018 LEW      ATP-L\n",
       "126  BC1F1-03-01-01-02-02-01: F08 ol ol 2018 LEW      ATP-L\n",
       "128  BC1F1-03-01-01-02-02-01: F08 ol ol 2018 LEW      ATP-L\n",
       "147  BC1F1-03-01-01-02-02-01: F08 ol ol 2011 LEW      ATP-L\n",
       "150  BC1F1-03-01-01-02-02-01: F08 ol ol 2012 LEW      ATP-L\n",
       "151  BC1F1-03-01-01-02-02-01: F08 ol ol 2017 LEW      ATP-L\n",
       "156  BC1F1-03-01-01-02-02-01: F08 ol ol 2017 LEW      ATP-L\n",
       "157  BC1F1-03-01-01-02-02-01: F08 ol ol 2014 LEW      ATP-L\n",
       "...  ...                          ...   ...  ...      ...  \n",
       "2594 BC1F1-04-02-S-04-S-03: F09   ol ol 2011 LEW      ATP-L\n",
       "2595 BC1F1-04-02-S-04-S-03: F09   ol ol 2012 LEW      ATP-L\n",
       "2596 BC1F1-04-02-S-04-S-03: F09   ol ol 2013 LEW      ATP-L\n",
       "2597 BC1F1-04-02-S-04-S-03: F09   ol ol 2014 LEW      ATP-L\n",
       "2598 BC1F1-04-02-S-04-S-03: F09   ol ol 2014 LEW      ATP-L\n",
       "2599 BC1F1-04-02-S-04-S-03: F09   ol ol 2015 LEW      ATP-L\n",
       "2600 BC1F1-04-02-S-04-S-03: F09   ol ol 2015 LEW      ATP-L\n",
       "2601 BC1F1-04-02-S-04-S-03: F09   ol ol 2016 LEW      ATP-L\n",
       "2602 BC1F1-04-02-S-04-S-03: F09   ol ol 2016 LEW      ATP-L\n",
       "2603 BC1F1-04-02-S-04-S-03: F09   ol ol 2017 LEW      ATP-L\n",
       "2604 BC1F1-04-02-S-04-S-03: F09   ol ol 2018 LEW      ATP-L\n",
       "2605 BC1F1-04-02-S-04-S-03: F09   ol ol 2010 LEW      ATP-L\n",
       "2606 BC1F1-04-02-S-04-S-03: F09   ol ol 2011 LEW      ATP-L\n",
       "2616 BC1F1-04-02-S-04-S-03: F09   ol ol 2017 LEW      ATP-L\n",
       "2660 BC1F1-04-01-S-02-S-02: F09   ol ol 2010 LEW      ATP-L\n",
       "2661 BC1F1-04-01-S-02-S-02: F09   ol ol 2011 LEW      ATP-L\n",
       "2662 BC1F1-04-01-S-02-S-02: F09   ol ol 2011 LEW      ATP-L\n",
       "2663 BC1F1-04-01-S-02-S-02: F09   ol ol 2012 LEW      ATP-L\n",
       "2664 BC1F1-04-01-S-02-S-02: F09   ol ol 2013 LEW      ATP-L\n",
       "2665 BC1F1-04-01-S-02-S-02: F09   ol ol 2013 LEW      ATP-L\n",
       "2666 BC1F1-04-01-S-02-S-02: F09   ol ol 2014 LEW      ATP-L\n",
       "2667 BC1F1-04-01-S-02-S-02: F09   ol ol 2014 LEW      ATP-L\n",
       "2668 BC1F1-04-01-S-02-S-02: F09   ol ol 2015 LEW      ATP-L\n",
       "2669 BC1F1-04-01-S-02-S-02: F09   ol ol 2015 LEW      ATP-L\n",
       "2670 BC1F1-04-01-S-02-S-02: F09   ol ol 2016 LEW      ATP-L\n",
       "2671 BC1F1-04-01-S-02-S-02: F09   ol ol 2016 LEW      ATP-L\n",
       "2672 BC1F1-04-01-S-02-S-02: F09   ol ol 2017 LEW      ATP-L\n",
       "2673 BC1F1-04-01-S-02-S-02: F09   ol ol 2017 LEW      ATP-L\n",
       "2674 BC1F1-04-01-S-02-S-02: F09   ol ol 2018 LEW      ATP-L\n",
       "2675 BC1F1-04-01-S-02-S-02: F09   ol ol 2018 LEW      ATP-L\n",
       "     Label                               Rating Disease\n",
       "10   Advanced Testing Program - Leafspot LS     2.50   \n",
       "14   Advanced Testing Program - Leafspot LS     8.00   \n",
       "20   Advanced Testing Program - Leafspot LS     4.00   \n",
       "30   Advanced Testing Program - Leafspot LS     2.55   \n",
       "33   Advanced Testing Program - Leafspot LS     6.00   \n",
       "34   Advanced Testing Program - Leafspot LS     7.17   \n",
       "38   Advanced Testing Program - Leafspot LS     5.79   \n",
       "39   Advanced Testing Program - Leafspot LS     4.71   \n",
       "42   Advanced Testing Program - Leafspot LS     7.01   \n",
       "45   Advanced Testing Program - Leafspot LS     7.19   \n",
       "48   Advanced Testing Program - Leafspot LS     3.00   \n",
       "53   Advanced Testing Program - Leafspot LS     6.50   \n",
       "54   Advanced Testing Program - Leafspot LS     2.00   \n",
       "59   Advanced Testing Program - Leafspot LS     2.00   \n",
       "61   Advanced Testing Program - Leafspot LS     4.00   \n",
       "63   Advanced Testing Program - Leafspot LS     2.00   \n",
       "65   Advanced Testing Program - Leafspot LS     3.50   \n",
       "68   Advanced Testing Program - Leafspot LS     4.50   \n",
       "69   Advanced Testing Program - Leafspot LS     5.46   \n",
       "70   Advanced Testing Program - Leafspot LS     6.00   \n",
       "71   Advanced Testing Program - Leafspot LS     5.00   \n",
       "73   Advanced Testing Program - Leafspot LS     7.77   \n",
       "79   Advanced Testing Program - Leafspot LS     5.62   \n",
       "126  Advanced Testing Program - Leafspot LS     6.28   \n",
       "128  Advanced Testing Program - Leafspot LS     6.00   \n",
       "147  Advanced Testing Program - Leafspot LS     7.72   \n",
       "150  Advanced Testing Program - Leafspot LS     2.00   \n",
       "151  Advanced Testing Program - Leafspot LS     8.00   \n",
       "156  Advanced Testing Program - Leafspot LS     8.11   \n",
       "157  Advanced Testing Program - Leafspot LS     6.50   \n",
       "...  ...                                 ...    ...    \n",
       "2594 Advanced Testing Program - Leafspot LS     6.31   \n",
       "2595 Advanced Testing Program - Leafspot LS     2.00   \n",
       "2596 Advanced Testing Program - Leafspot LS     3.00   \n",
       "2597 Advanced Testing Program - Leafspot LS     6.74   \n",
       "2598 Advanced Testing Program - Leafspot LS     6.00   \n",
       "2599 Advanced Testing Program - Leafspot LS     5.32   \n",
       "2600 Advanced Testing Program - Leafspot LS     4.70   \n",
       "2601 Advanced Testing Program - Leafspot LS     4.00   \n",
       "2602 Advanced Testing Program - Leafspot LS     5.00   \n",
       "2603 Advanced Testing Program - Leafspot LS     8.00   \n",
       "2604 Advanced Testing Program - Leafspot LS     5.00   \n",
       "2605 Advanced Testing Program - Leafspot LS     2.00   \n",
       "2606 Advanced Testing Program - Leafspot LS     6.06   \n",
       "2616 Advanced Testing Program - Leafspot LS     7.38   \n",
       "2660 Advanced Testing Program - Leafspot LS     2.94   \n",
       "2661 Advanced Testing Program - Leafspot LS     7.17   \n",
       "2662 Advanced Testing Program - Leafspot LS     7.31   \n",
       "2663 Advanced Testing Program - Leafspot LS     2.00   \n",
       "2664 Advanced Testing Program - Leafspot LS     3.00   \n",
       "2665 Advanced Testing Program - Leafspot LS     3.50   \n",
       "2666 Advanced Testing Program - Leafspot LS     6.97   \n",
       "2667 Advanced Testing Program - Leafspot LS     6.00   \n",
       "2668 Advanced Testing Program - Leafspot LS     7.14   \n",
       "2669 Advanced Testing Program - Leafspot LS     5.74   \n",
       "2670 Advanced Testing Program - Leafspot LS     4.50   \n",
       "2671 Advanced Testing Program - Leafspot LS     4.00   \n",
       "2672 Advanced Testing Program - Leafspot LS     7.80   \n",
       "2673 Advanced Testing Program - Leafspot LS     8.00   \n",
       "2674 Advanced Testing Program - Leafspot LS     6.00   \n",
       "2675 Advanced Testing Program - Leafspot LS     6.66   "
      ]
     },
     "metadata": {},
     "output_type": "display_data"
    }
   ],
   "source": [
    "leaf.spot"
   ]
  },
  {
   "cell_type": "code",
   "execution_count": 20,
   "metadata": {},
   "outputs": [],
   "source": [
    "leaf.spot <- subset(leaf.spot, NC_Accession %in% line_names)"
   ]
  },
  {
   "cell_type": "code",
   "execution_count": 21,
   "metadata": {},
   "outputs": [],
   "source": [
    "help(aggregate)"
   ]
  },
  {
   "cell_type": "code",
   "execution_count": 22,
   "metadata": {},
   "outputs": [
    {
     "data": {
      "text/html": [
       "<table>\n",
       "<thead><tr><th scope=col>Line</th><th scope=col>Disease</th></tr></thead>\n",
       "<tbody>\n",
       "\t<tr><td>Bailey   </td><td>4.828000 </td></tr>\n",
       "\t<tr><td>Bailey II</td><td>4.981250 </td></tr>\n",
       "\t<tr><td>Emery    </td><td>6.089167 </td></tr>\n",
       "\t<tr><td>Sullivan </td><td>5.048667 </td></tr>\n",
       "\t<tr><td>Wynne    </td><td>5.545625 </td></tr>\n",
       "</tbody>\n",
       "</table>\n"
      ],
      "text/latex": [
       "\\begin{tabular}{r|ll}\n",
       " Line & Disease\\\\\n",
       "\\hline\n",
       "\t Bailey    & 4.828000 \\\\\n",
       "\t Bailey II & 4.981250 \\\\\n",
       "\t Emery     & 6.089167 \\\\\n",
       "\t Sullivan  & 5.048667 \\\\\n",
       "\t Wynne     & 5.545625 \\\\\n",
       "\\end{tabular}\n"
      ],
      "text/markdown": [
       "\n",
       "| Line | Disease |\n",
       "|---|---|\n",
       "| Bailey    | 4.828000  |\n",
       "| Bailey II | 4.981250  |\n",
       "| Emery     | 6.089167  |\n",
       "| Sullivan  | 5.048667  |\n",
       "| Wynne     | 5.545625  |\n",
       "\n"
      ],
      "text/plain": [
       "  Line      Disease \n",
       "1 Bailey    4.828000\n",
       "2 Bailey II 4.981250\n",
       "3 Emery     6.089167\n",
       "4 Sullivan  5.048667\n",
       "5 Wynne     5.545625"
      ]
     },
     "metadata": {},
     "output_type": "display_data"
    }
   ],
   "source": [
    "ls_agg <- aggregate(list(Disease = leaf.spot$Disease), list(Line = leaf.spot$NC_Accession), mean)\n",
    "ls_agg"
   ]
  },
  {
   "cell_type": "code",
   "execution_count": 13,
   "metadata": {},
   "outputs": [
    {
     "name": "stdout",
     "output_type": "stream",
     "text": [
      "[1] TRUE\n",
      "[1] FALSE\n"
     ]
    }
   ],
   "source": [
    "#Example from the book\n",
    "v1 <- 8\n",
    "v2 <- 12\n",
    "t <- 1:10\n",
    "print(v1 %in% t) \n",
    "print(v2 %in% t) "
   ]
  },
  {
   "cell_type": "code",
   "execution_count": 23,
   "metadata": {},
   "outputs": [
    {
     "ename": "ERROR",
     "evalue": "Error in library(xlsx): there is no package called ‘xlsx’\n",
     "output_type": "error",
     "traceback": [
      "Error in library(xlsx): there is no package called ‘xlsx’\nTraceback:\n",
      "1. library(xlsx)"
     ]
    }
   ],
   "source": [
    "# this did not work. Thi sis the example in the book \n",
    "\n",
    "library(xlsx)\n",
    "write.xlsx(ls_agg, 'Leaf Spot.xlsx', row.names=FALSE)"
   ]
  },
  {
   "cell_type": "code",
   "execution_count": 24,
   "metadata": {},
   "outputs": [
    {
     "name": "stderr",
     "output_type": "stream",
     "text": [
      "also installing the dependencies ‘rJava’, ‘xlsxjars’\n",
      "\n",
      "Warning message in install.packages(\"xlsx\", repos = \"http://cran.rstudio.com/\"):\n",
      "“installation of package ‘rJava’ had non-zero exit status”Warning message in install.packages(\"xlsx\", repos = \"http://cran.rstudio.com/\"):\n",
      "“installation of package ‘xlsxjars’ had non-zero exit status”Warning message in install.packages(\"xlsx\", repos = \"http://cran.rstudio.com/\"):\n",
      "“installation of package ‘xlsx’ had non-zero exit status”Updating HTML index of packages in '.Library'\n",
      "Making 'packages.html' ... done\n"
     ]
    }
   ],
   "source": [
    "install.packages('xlsx',repos=\"http://cran.rstudio.com/\")"
   ]
  },
  {
   "cell_type": "code",
   "execution_count": null,
   "metadata": {},
   "outputs": [],
   "source": []
  }
 ],
 "metadata": {
  "kernelspec": {
   "display_name": "R",
   "language": "R",
   "name": "ir"
  },
  "language_info": {
   "codemirror_mode": "r",
   "file_extension": ".r",
   "mimetype": "text/x-r-source",
   "name": "R",
   "pygments_lexer": "r",
   "version": "3.6.1"
  }
 },
 "nbformat": 4,
 "nbformat_minor": 2
}
